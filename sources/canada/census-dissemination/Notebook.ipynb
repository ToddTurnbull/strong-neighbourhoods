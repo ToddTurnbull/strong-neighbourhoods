{
 "cells": [
  {
   "cell_type": "markdown",
   "metadata": {},
   "source": [
    "# Census Dissemination Areas\n"
   ]
  },
  {
   "cell_type": "markdown",
   "metadata": {},
   "source": [
    "## Overview\n",
    "\n",
    "Let's explore the data with [csvkit](http://csvkit.readthedocs.io/en/0.9.1/)"
   ]
  },
  {
   "cell_type": "markdown",
   "metadata": {},
   "source": [
    "### List all (470) column names\n",
    "\n",
    "And save it to [columns.txt](columns.txt)\n",
    "\n",
    "```\n",
    "csvcut -n census_dissemination.csv > columns.txt\n",
    "```"
   ]
  },
  {
   "cell_type": "markdown",
   "metadata": {},
   "source": [
    "### Look at the first 3 columns of the first 4 rows"
   ]
  },
  {
   "cell_type": "code",
   "execution_count": 1,
   "metadata": {
    "collapsed": false,
    "scrolled": true
   },
   "outputs": [
    {
     "name": "stdout",
     "output_type": "stream",
     "text": [
      "|------------------------------------+------------------+--------------------------|\n",
      "|  Geography                         | Population, 2011 | Total private dwellings  |\n",
      "|------------------------------------+------------------+--------------------------|\n",
      "|  Waterloo (3530)   00000           | 507096.00        | 202121.00                |\n",
      "|  North Dumfries (3530004) TP 00000 | 9334.00          | 3288.00                  |\n",
      "|  35300798 (35300798)   00000       | 587.00           | 204.00                   |\n",
      "|  35300799 (35300799)   00000       | 376.00           | 135.00                   |\n",
      "|------------------------------------+------------------+--------------------------|\n"
     ]
    }
   ],
   "source": [
    "%%bash\n",
    "head -n 5 census_dissemination.csv | csvcut -c 1,2,3 | csvlook\n"
   ]
  },
  {
   "cell_type": "markdown",
   "metadata": {},
   "source": [
    "### Find Geography values starting with a letter"
   ]
  },
  {
   "cell_type": "code",
   "execution_count": 2,
   "metadata": {
    "collapsed": false
   },
   "outputs": [
    {
     "name": "stdout",
     "output_type": "stream",
     "text": [
      "|------------------------------------+-------------------|\n",
      "|  Geography                         | Population, 2011  |\n",
      "|------------------------------------+-------------------|\n",
      "|  Waterloo (3530)   00000           | 507096.00         |\n",
      "|  North Dumfries (3530004) TP 00000 | 9334.00           |\n",
      "|  Cambridge (3530010) CY 00000      | 126748.00         |\n",
      "|  Kitchener (3530013) CY 00000      | 219153.00         |\n",
      "|  Waterloo (3530016) CY 00000       | 98780.00          |\n",
      "|  Wilmot (3530020) TP 00000         | 19223.00          |\n",
      "|  Wellesley (3530027) TP 00000      | 10713.00          |\n",
      "|  Woolwich (3530035) TP 00000       | 23145.00          |\n",
      "|------------------------------------+-------------------|\n"
     ]
    }
   ],
   "source": [
    "%%bash\n",
    "csvcut -c 1,2 census_dissemination.csv | csvgrep -c 1 -r \"^[A-Z]\" | csvlook"
   ]
  },
  {
   "cell_type": "markdown",
   "metadata": {},
   "source": [
    "### Population\n",
    "\n",
    "The column values for \"Population, 2011\" and \"Total population by age groups\" don't quite match:"
   ]
  },
  {
   "cell_type": "code",
   "execution_count": 3,
   "metadata": {
    "collapsed": false
   },
   "outputs": [
    {
     "name": "stdout",
     "output_type": "stream",
     "text": [
      "|------------------------------------+------------------+---------------------------------|\n",
      "|  Geography                         | Population, 2011 | Total population by age groups  |\n",
      "|------------------------------------+------------------+---------------------------------|\n",
      "|  Waterloo (3530)   00000           | 507096.00        | 507095.00                       |\n",
      "|  North Dumfries (3530004) TP 00000 | 9334.00          | 9335.00                         |\n",
      "|  35300798 (35300798)   00000       | 587.00           | 585.00                          |\n",
      "|  35300799 (35300799)   00000       | 376.00           | 375.00                          |\n",
      "|  35300800 (35300800)   00000       | 439.00           | 440.00                          |\n",
      "|  35300801 (35300801)   00000       | 450.00           | 450.00                          |\n",
      "|  35300802 (35300802)   00000       | 452.00           | 455.00                          |\n",
      "|  35300803 (35300803)   00000       | 418.00           | 420.00                          |\n",
      "|  35300804 (35300804)   00000       | 705.00           | 705.00                          |\n",
      "|------------------------------------+------------------+---------------------------------|\n"
     ]
    }
   ],
   "source": [
    "%%bash\n",
    "head -n 10 census_dissemination.csv | csvcut -c 1,2,6 | csvlook\n"
   ]
  },
  {
   "cell_type": "markdown",
   "metadata": {},
   "source": [
    "### Create a new file with line numbers added"
   ]
  },
  {
   "cell_type": "code",
   "execution_count": 12,
   "metadata": {
    "collapsed": false
   },
   "outputs": [
    {
     "name": "stdout",
     "output_type": "stream",
     "text": [
      "|--------------+-----------------------------------+-------------------|\n",
      "|  line_number | Geography                         | Population, 2011  |\n",
      "|--------------+-----------------------------------+-------------------|\n",
      "|  1           | Waterloo (3530)   00000           | 507096.00         |\n",
      "|  2           | North Dumfries (3530004) TP 00000 | 9334.00           |\n",
      "|  3           | 35300798 (35300798)   00000       | 587.00            |\n",
      "|  4           | 35300799 (35300799)   00000       | 376.00            |\n",
      "|--------------+-----------------------------------+-------------------|\n"
     ]
    }
   ],
   "source": [
    "%%bash\n",
    "csvcut -l census_dissemination.csv > census_indexed.csv\n",
    "head -n 5 census_indexed.csv | csvcut -c 1,2,3 | csvlook                                         \n"
   ]
  },
  {
   "cell_type": "markdown",
   "metadata": {},
   "source": [
    "### Create new files with groups of related columns"
   ]
  },
  {
   "cell_type": "code",
   "execution_count": 13,
   "metadata": {
    "collapsed": false
   },
   "outputs": [
    {
     "name": "stdout",
     "output_type": "stream",
     "text": [
      "  1: line_number\n",
      "  2: Geography\n",
      "  3: Population, 2011\n",
      "  4: Total private dwellings\n",
      "  5: Private dwellings occupied by usual residents\n",
      "  6: Land area in square kilometres\n"
     ]
    }
   ],
   "source": [
    "%%bash\n",
    "# dwellings and land area\n",
    "csvcut -c 1,2,3,4,5,6 census_indexed.csv > census_dwellings.csv\n",
    "csvcut -n census_dwellings.csv\n"
   ]
  },
  {
   "cell_type": "code",
   "execution_count": 14,
   "metadata": {
    "collapsed": false,
    "scrolled": false
   },
   "outputs": [
    {
     "name": "stdout",
     "output_type": "stream",
     "text": [
      "  1: line_number\n",
      "  2: Geography\n",
      "  3: Population, 2011\n",
      "  4: Total population by age groups\n",
      "  5:   0 to 4 years\n",
      "  6:   5 to 9 years\n",
      "  7:   10 to 14 years\n",
      "  8:   15 to 19 years\n",
      "  9:     15 years\n",
      " 10:     16 years\n",
      " 11:     17 years\n",
      " 12:     18 years\n",
      " 13:     19 years\n",
      " 14:   20 to 24 years\n",
      " 15:   25 to 29 years\n",
      " 16:   30 to 34 years\n",
      " 17:   35 to 39 years\n",
      " 18:   40 to 44 years\n",
      " 19:   45 to 49 years\n",
      " 20:   50 to 54 years\n",
      " 21:   55 to 59 years\n",
      " 22:   60 to 64 years\n",
      " 23:   65 to 69 years\n",
      " 24:   70 to 74 years\n",
      " 25:   75 to 79 years\n",
      " 26:   80 to 84 years\n",
      " 27:   85 years and over\n",
      " 28: Median age of the population\n",
      " 29: % of the population aged 15 and over\n"
     ]
    }
   ],
   "source": [
    "%%bash\n",
    "# age groups\n",
    "csvcut -c 1,2,3,7,8,9,10,11,12,13,14,15,16,17,18,19,20,21,22,23,24,25,26,27,28,29,30,31,32 census_indexed.csv > census_age_groups.csv\n",
    "csvcut -n census_age_groups.csv\n"
   ]
  },
  {
   "cell_type": "markdown",
   "metadata": {},
   "source": [
    "### Joining data files"
   ]
  },
  {
   "cell_type": "code",
   "execution_count": 7,
   "metadata": {
    "collapsed": false
   },
   "outputs": [
    {
     "name": "stdout",
     "output_type": "stream",
     "text": [
      "|--------------+-----------------------------------+----------------+---------------------------------|\n",
      "|  line_number | Geography                         |   0 to 4 years | Land area in square kilometres  |\n",
      "|--------------+-----------------------------------+----------------+---------------------------------|\n",
      "|  1           | Waterloo (3530)   00000           | 30940.00       | 1368.94                         |\n",
      "|  2           | North Dumfries (3530004) TP 00000 | 445.00         | 187.44                          |\n",
      "|  20          | Cambridge (3530010) CY 00000      | 7955.00        | 113.00                          |\n",
      "|  210         | Kitchener (3530013) CY 00000      | 13705.00       | 136.79                          |\n",
      "|  524         | Waterloo (3530016) CY 00000       | 4990.00        | 64.02                           |\n",
      "|  678         | Wilmot (3530020) TP 00000         | 1165.00        | 263.72                          |\n",
      "|  708         | Wellesley (3530027) TP 00000      | 985.00         | 277.79                          |\n",
      "|  728         | Woolwich (3530035) TP 00000       | 1695.00        | 326.17                          |\n",
      "|--------------+-----------------------------------+----------------+---------------------------------|\n"
     ]
    }
   ],
   "source": [
    "%%bash\n",
    "csvjoin -c \"line_number\" census_age_groups.csv census_dwellings.csv | csvgrep -c 2 -r \"^[A-Z]\" | csvcut -c 1,2,5,35 > census_join_example.csv\n",
    "csvlook census_join_example.csv\n"
   ]
  },
  {
   "cell_type": "markdown",
   "metadata": {},
   "source": [
    "## Agate"
   ]
  },
  {
   "cell_type": "code",
   "execution_count": 8,
   "metadata": {
    "collapsed": false
   },
   "outputs": [
    {
     "name": "stdout",
     "output_type": "stream",
     "text": [
      "|------+----------------------+------------+-----------|\n",
      "|   id | municipality         | population |     area  |\n",
      "|------+----------------------+------------+-----------|\n",
      "|    1 | Waterloo (3530)  ... |     30,940 | 1,368.94  |\n",
      "|    2 | North Dumfries (3... |        445 |   187.44  |\n",
      "|   20 | Cambridge (353001... |      7,955 |   113.00  |\n",
      "|  210 | Kitchener (353001... |     13,705 |   136.79  |\n",
      "|  524 | Waterloo (3530016... |      4,990 |    64.02  |\n",
      "|  678 | Wilmot (3530020) ... |      1,165 |   263.72  |\n",
      "|  708 | Wellesley (353002... |        985 |   277.79  |\n",
      "|  728 | Woolwich (3530035... |      1,695 |   326.17  |\n",
      "|------+----------------------+------------+-----------|\n"
     ]
    }
   ],
   "source": [
    "import agate\n",
    "\n",
    "# we can specify new column names for census_join_example.csv\n",
    "column_names = [\"id\", \"municipality\", \"population\", \"area\"]\n",
    "\n",
    "# load the csv into agate with the new column names\n",
    "preschoolers = agate.Table.from_csv(\"census_join_example.csv\", column_names)\n",
    "\n",
    "preschoolers.print_table()"
   ]
  },
  {
   "cell_type": "code",
   "execution_count": 9,
   "metadata": {
    "collapsed": false,
    "scrolled": true
   },
   "outputs": [
    {
     "name": "stdout",
     "output_type": "stream",
     "text": [
      "Waterloo has 22 preschoolers per square kilometre\n",
      "North Dumfries has 2 preschoolers per square kilometre\n",
      "Cambridge has 70 preschoolers per square kilometre\n",
      "Kitchener has 100 preschoolers per square kilometre\n",
      "Waterloo has 77 preschoolers per square kilometre\n",
      "Wilmot has 4 preschoolers per square kilometre\n",
      "Wellesley has 3 preschoolers per square kilometre\n",
      "Woolwich has 5 preschoolers per square kilometre\n"
     ]
    }
   ],
   "source": [
    "# we can refer to column values by name (row[\"id\"]) or index (row[0])\n",
    "for row in preschoolers.rows:\n",
    "    municipality = row[\"municipality\"].split(\" (\")[0] # extract just the name\n",
    "    density = int(row[\"population\"]/row[\"area\"])\n",
    "    print(\"{} has {} preschoolers per square kilometre\".format(municipality, density))"
   ]
  },
  {
   "cell_type": "markdown",
   "metadata": {},
   "source": [
    "### Group Dissemination Areas by Municipality\n",
    "\n",
    "Lines 3-19 appear to be dissemination areas for North Dumfries."
   ]
  },
  {
   "cell_type": "code",
   "execution_count": 78,
   "metadata": {
    "collapsed": false
   },
   "outputs": [
    {
     "name": "stdout",
     "output_type": "stream",
     "text": [
      "|--------------+------------------------------------|\n",
      "|  line_number | Geography                          |\n",
      "|--------------+------------------------------------|\n",
      "|  1           | Waterloo (3530)   00000            |\n",
      "|  2           | North Dumfries (3530004) TP 00000  |\n",
      "|  3           | 35300798 (35300798)   00000        |\n",
      "|  4           | 35300799 (35300799)   00000        |\n",
      "|  5           | 35300800 (35300800)   00000        |\n",
      "|  6           | 35300801 (35300801)   00000        |\n",
      "|  7           | 35300802 (35300802)   00000        |\n",
      "|  8           | 35300803 (35300803)   00000        |\n",
      "|  9           | 35300804 (35300804)   00000        |\n",
      "|  10          | 35300805 (35300805)   00000        |\n",
      "|  11          | 35300806 (35300806)   00000        |\n",
      "|  12          | 35300807 (35300807)   00000        |\n",
      "|  13          | 35300808 (35300808)   00000        |\n",
      "|  14          | 35300809 (35300809)   00000        |\n",
      "|  15          | 35300810 (35300810)   00000        |\n",
      "|  16          | 35300811 (35300811)   01000        |\n",
      "|  17          | 35300812 (35300812)   00000        |\n",
      "|  18          | 35300813 (35300813)   00000        |\n",
      "|  19          | 35300814 (35300814)   00000        |\n",
      "|  20          | Cambridge (3530010) CY 00000       |\n",
      "|--------------+------------------------------------|\n"
     ]
    }
   ],
   "source": [
    "%%bash\n",
    "head -n 21 census_indexed.csv | csvcut -c 1,2 > census_geography_example.csv\n",
    "csvlook census_geography_example.csv\n"
   ]
  },
  {
   "cell_type": "code",
   "execution_count": 21,
   "metadata": {
    "collapsed": false,
    "scrolled": true
   },
   "outputs": [
    {
     "name": "stdout",
     "output_type": "stream",
     "text": [
      "|--------------+------------------------------------|\n",
      "|  line_number | Geography                          |\n",
      "|--------------+------------------------------------|\n",
      "|  1           | Waterloo (3530)   00000            |\n",
      "|  2           | North Dumfries (3530004) TP 00000  |\n",
      "|  20          | Cambridge (3530010) CY 00000       |\n",
      "|  210         | Kitchener (3530013) CY 00000       |\n",
      "|  524         | Waterloo (3530016) CY 00000        |\n",
      "|  678         | Wilmot (3530020) TP 00000          |\n",
      "|  708         | Wellesley (3530027) TP 00000       |\n",
      "|  728         | Woolwich (3530035) TP 00000        |\n",
      "|--------------+------------------------------------|\n"
     ]
    }
   ],
   "source": [
    "%%bash\n",
    "csvcut -c 1,2 census_indexed.csv | csvgrep -c 2 -r \"^[A-Z]\" > census_municipalities.csv\n",
    "csvlook census_municipalities.csv"
   ]
  },
  {
   "cell_type": "code",
   "execution_count": 140,
   "metadata": {
    "collapsed": false,
    "scrolled": true
   },
   "outputs": [
    {
     "name": "stdout",
     "output_type": "stream",
     "text": [
      "|--------------+------------------------------------|\n",
      "|  line_number | Geography                          |\n",
      "|--------------+------------------------------------|\n",
      "|  1           | Waterloo (3530)   00000            |\n",
      "|  2           | North Dumfries (3530004) TP 00000  |\n",
      "|  3           | 35300798 (35300798)   00000        |\n",
      "|  4           | 35300799 (35300799)   00000        |\n",
      "|  5           | 35300800 (35300800)   00000        |\n",
      "|  6           | 35300801 (35300801)   00000        |\n",
      "|  7           | 35300802 (35300802)   00000        |\n",
      "|  8           | 35300803 (35300803)   00000        |\n",
      "|  9           | 35300804 (35300804)   00000        |\n",
      "|--------------+------------------------------------|\n"
     ]
    }
   ],
   "source": [
    "%%bash\n",
    "csvcut -c 1,2 census_indexed.csv > census_areas_raw.csv\n",
    "head -n 10 census_areas_raw.csv | csvlook"
   ]
  },
  {
   "cell_type": "code",
   "execution_count": 137,
   "metadata": {
    "collapsed": false
   },
   "outputs": [],
   "source": [
    "# helper functions\n",
    "def match_area_id(text):\n",
    "    \"\"\"\n",
    "    Extract area/name and identifier from Census Geography column\n",
    "    \n",
    "    match_area_id(\"Waterloo (3530)   00000\") == (\"Waterloo\", \"3530\")\n",
    "    \"\"\"\n",
    "    \n",
    "    import re\n",
    "    _match = re.match(\"(.*) [(](.*)[)] .*\", text)\n",
    "    return _match.groups()\n",
    "\n",
    "def get_ranges(start_values, all_values):\n",
    "    \"\"\"\n",
    "    Use list of start_values to create ranges of items to extract from all_values\n",
    "    \n",
    "    get_ranges([1,3], [1,2,3,4,5]) == [(1, 2), (3, 5)]\n",
    "    \"\"\"\n",
    "\n",
    "    stop_values = [value - 1 for value in start_values[1:]]\n",
    "    stop_values.append(len(all_values))\n",
    "    \n",
    "    return zip(start_values, stop_values)\n",
    "\n",
    "# load data\n",
    "municipalities = agate.Table.from_csv(\"census_municipalities.csv\")\n",
    "\n",
    "areas = agate.Table.from_csv(\"census_areas_raw.csv\")\n",
    "\n",
    "# first row of municipalities table is Waterloo Region\n",
    "region_row = municipalities.rows[0]\n",
    "region_id = match_area_id(region_row[\"Geography\"])\n",
    "\n",
    "start_values = [int(row[\"line_number\"]) for row in municipalities.rows[1:]] # skip first row\n",
    "\n",
    "ranges = get_ranges(start_values, areas.rows)\n",
    "names = [match_area_id(row[\"Geography\"]) for row in municipalities.rows[1:]]\n",
    "named_ranges = zip(names, ranges)\n",
    "\n",
    "column_values = []\n",
    "for n, r in named_ranges:\n",
    "    start, stop = r\n",
    "    for row in areas.rows[start:stop]:\n",
    "        _, _id = match_area_id(row[\"Geography\"])\n",
    "        columns = list(region_id)\n",
    "        columns.extend(list(n))\n",
    "        columns.append(_id)\n",
    "        column_values.append(columns)\n",
    "\n",
    "column_names = [\"Region\", \"region_id\", \"Municipality\", \"municipality_id\", \"area_id\"]\n",
    "\n",
    "areas_table = agate.Table(column_values, column_names)\n",
    "areas_table.to_csv(\"census_areas.csv\")"
   ]
  },
  {
   "cell_type": "code",
   "execution_count": 139,
   "metadata": {
    "collapsed": false,
    "scrolled": true
   },
   "outputs": [
    {
     "name": "stdout",
     "output_type": "stream",
     "text": [
      "|-----------+-----------+----------------+-----------------+-----------|\n",
      "|  Region   | region_id | Municipality   | municipality_id | area_id   |\n",
      "|-----------+-----------+----------------+-----------------+-----------|\n",
      "|  Waterloo | 3530      | North Dumfries | 3530004         | 35300798  |\n",
      "|  Waterloo | 3530      | North Dumfries | 3530004         | 35300799  |\n",
      "|  Waterloo | 3530      | North Dumfries | 3530004         | 35300800  |\n",
      "|  Waterloo | 3530      | North Dumfries | 3530004         | 35300801  |\n",
      "|-----------+-----------+----------------+-----------------+-----------|\n"
     ]
    }
   ],
   "source": [
    "%%bash\n",
    "head -n 5 census_areas.csv | csvlook"
   ]
  }
 ],
 "metadata": {
  "kernelspec": {
   "display_name": "Python 2",
   "language": "python",
   "name": "python2"
  },
  "language_info": {
   "codemirror_mode": {
    "name": "ipython",
    "version": 2
   },
   "file_extension": ".py",
   "mimetype": "text/x-python",
   "name": "python",
   "nbconvert_exporter": "python",
   "pygments_lexer": "ipython2",
   "version": "2.7.11+"
  }
 },
 "nbformat": 4,
 "nbformat_minor": 0
}
