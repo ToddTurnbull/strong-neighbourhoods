{
 "cells": [
  {
   "cell_type": "code",
   "execution_count": 23,
   "metadata": {
    "collapsed": false,
    "scrolled": true
   },
   "outputs": [
    {
     "name": "stdout",
     "output_type": "stream",
     "text": [
      "|--------------+-------------------|\n",
      "|  line_number | Geography         |\n",
      "|--------------+-------------------|\n",
      "|  1           | WAT - PD - C10    |\n",
      "|  2           | WAT - PD - C1014  |\n",
      "|  3           | WAT - PD - C103   |\n",
      "|  4           | WAT - PD - C109   |\n",
      "|  5           | WAT - PD - C10N   |\n",
      "|  6           | WAT - PD - C10S   |\n",
      "|  7           | WAT - PD - C11    |\n",
      "|  8           | WAT - PD - C116   |\n",
      "|  9           | WAT - PD - C12    |\n",
      "|--------------+-------------------|\n"
     ]
    }
   ],
   "source": [
    "%%bash\n",
    "# add line_number column as a \"primary key\" for joining to other tables\n",
    "csvcut -l 2011\\ Census\\ all.csv > \"census-planning-districts-indexed.csv\"\n",
    "\n",
    "# create a temporary table with the Geography field which contains codes for each district\n",
    "csvcut -c 1,2 \"census-planning-districts-indexed.csv\" > \"census-planning-districts-tmp.csv\"\n",
    "head -n 10 census-planning-districts-tmp.csv | csvlook"
   ]
  },
  {
   "cell_type": "code",
   "execution_count": 2,
   "metadata": {
    "collapsed": true
   },
   "outputs": [],
   "source": [
    "import agate\n",
    "import re"
   ]
  },
  {
   "cell_type": "code",
   "execution_count": 10,
   "metadata": {
    "collapsed": true
   },
   "outputs": [],
   "source": [
    "def district_code(text):\n",
    "    \"\"\"Extract district code from Geography column\"\"\"\n",
    "    _match = re.match(\"WAT - PD - (.*)\", text)\n",
    "    return _match.group(1)"
   ]
  },
  {
   "cell_type": "code",
   "execution_count": 3,
   "metadata": {
    "collapsed": false
   },
   "outputs": [],
   "source": [
    "districts = agate.Table.from_csv(\"census-planning-districts-tmp.csv\")"
   ]
  },
  {
   "cell_type": "code",
   "execution_count": 16,
   "metadata": {
    "collapsed": false
   },
   "outputs": [],
   "source": [
    "column_names = [\"index\", \"code\"]\n",
    "column_types = [agate.Number(), agate.Text()]\n",
    "column_values = [[row[\"line_number\"], district_code(row[\"Geography\"])] for row in districts.rows]\n",
    "districts_table = agate.Table(column_values, column_names, column_types)\n",
    "districts_table.to_csv(\"census-planning-districts-codes-indexed.csv\")"
   ]
  },
  {
   "cell_type": "code",
   "execution_count": 18,
   "metadata": {
    "collapsed": false,
    "scrolled": true
   },
   "outputs": [
    {
     "name": "stdout",
     "output_type": "stream",
     "text": [
      "|--------+--------|\n",
      "|  index | code   |\n",
      "|--------+--------|\n",
      "|  1     | C10    |\n",
      "|  2     | C1014  |\n",
      "|  3     | C103   |\n",
      "|  4     | C109   |\n",
      "|  5     | C10N   |\n",
      "|  6     | C10S   |\n",
      "|  7     | C11    |\n",
      "|  8     | C116   |\n",
      "|  9     | C12    |\n",
      "|--------+--------|\n"
     ]
    }
   ],
   "source": [
    "%%bash\n",
    "head -n 10 census-planning-districts-codes-indexed.csv | csvlook"
   ]
  },
  {
   "cell_type": "code",
   "execution_count": 19,
   "metadata": {
    "collapsed": false,
    "scrolled": true
   },
   "outputs": [
    {
     "name": "stdout",
     "output_type": "stream",
     "text": [
      "|-------+--------------------+---------------|\n",
      "|  ID   | Name               | Municipality  |\n",
      "|-------+--------------------+---------------|\n",
      "|  C6   | Downtown Hespeler  | Cambridge     |\n",
      "|  C8   | Cambrian Hills     | Cambridge     |\n",
      "|  C10  | Blair              | Cambridge     |\n",
      "|  C10N | Shades Mills North | Cambridge     |\n",
      "|  C10S | Shades Mills South | Cambridge     |\n",
      "|  C11  | Preston Heights    | Cambridge     |\n",
      "|  C12  | Central Park       | Cambridge     |\n",
      "|  C13  | Lang's Farm        | Cambridge     |\n",
      "|  C17  | Elgin Park         | Cambridge     |\n",
      "|-------+--------------------+---------------|\n"
     ]
    }
   ],
   "source": [
    "%%bash\n",
    "head -n 10 planning-district-codes.csv | csvlook"
   ]
  },
  {
   "cell_type": "code",
   "execution_count": 24,
   "metadata": {
    "collapsed": false,
    "scrolled": true
   },
   "outputs": [
    {
     "name": "stdout",
     "output_type": "stream",
     "text": [
      "|--------+-------+----------------------------+---------------|\n",
      "|  index | code  | Name                       | Municipality  |\n",
      "|--------+-------+----------------------------+---------------|\n",
      "|  1     | C10   | Blair                      | Cambridge     |\n",
      "|  2     | C1014 | Silver Heights/Blackbridge | Cambridge     |\n",
      "|  3     | C103  | Riverside                  | Cambridge     |\n",
      "|  4     | C109  | Centennial/River Flats     | Cambridge     |\n",
      "|  5     | C10N  | Shades Mills North         | Cambridge     |\n",
      "|  6     | C10S  | Shades Mills South         | Cambridge     |\n",
      "|  7     | C11   | Preston Heights            | Cambridge     |\n",
      "|  8     | C116  | Riverview                  | Cambridge     |\n",
      "|  9     | C12   | Central Park               | Cambridge     |\n",
      "|--------+-------+----------------------------+---------------|\n"
     ]
    }
   ],
   "source": [
    "%%bash\n",
    "# create a table we can join with census-planning-districts-indexed.csv\n",
    "csvjoin -c \"code,ID\" census-planning-districts-codes-indexed.csv planning-district-codes.csv | \\\n",
    "csvcut -c 1,2,4,5 > \"census-planning-districts.csv\"\n",
    "\n",
    "head -n 10 census-planning-districts.csv | csvlook"
   ]
  },
  {
   "cell_type": "code",
   "execution_count": 22,
   "metadata": {
    "collapsed": false
   },
   "outputs": [
    {
     "name": "stdout",
     "output_type": "stream",
     "text": [
      "  1: line_number\n",
      "  2: Geography\n",
      "  3: Total population by age groups\n",
      " 27: Median age of the population\n",
      " 28: % of the population aged 15 and over\n",
      " 81: Total population 15 years and over by marital status\n",
      "108: Total number of persons in private households \n",
      "126: Total number of persons aged 65 years and over in private households\n",
      "144: Total number of census families in private households by family size\n",
      "149: Total number of census families in private households by family structure and number of children\n",
      "172: Total children in census families in private households\n",
      "178: Average number of children at home per census family\n",
      "179: Average number of persons per census family\n",
      "180: Total number of private households by household type\n",
      "197: Total number of private households by household size\n",
      "204: Total number of persons in private households\n",
      "205: Average number of persons in private households\n",
      "206: Total number of occupied private dwellings by structural type of dwelling\n",
      "216: Detailed Mother Tongue - Total population excluding institutional residents\n",
      "549: Knowledge of official languages - Total population excluding institutional residents\n",
      "564: First official language spoken - Total population excluding institutional residents\n",
      "579: Detailed language spoken most often at home - Total population excluding institutional residents\n",
      "912: Detailed other language spoken regularly at home - Total population excluding institutional residents\n"
     ]
    }
   ],
   "source": [
    "%%bash\n",
    "csvcut -n census-planning-districts-indexed.csv > columns.txt\n",
    "\n",
    "# list \"top level\" columns by excluding column names that start with a space\n",
    "grep -v \":  \" columns.txt"
   ]
  },
  {
   "cell_type": "code",
   "execution_count": 15,
   "metadata": {
    "collapsed": false
   },
   "outputs": [
    {
     "name": "stdout",
     "output_type": "stream",
     "text": [
      "  1: line_number\n",
      "  2: Total population by age groups\n",
      "  3: Total number of census families in private households by family structure and number of children\n",
      "  4:   Total couple families by family structure and number of children\n"
     ]
    }
   ],
   "source": [
    "%%bash\n",
    "csvcut -c 1,3,149,150 census-planning-districts-indexed.csv | csvcut -n"
   ]
  }
 ],
 "metadata": {
  "kernelspec": {
   "display_name": "Python 2",
   "language": "python",
   "name": "python2"
  },
  "language_info": {
   "codemirror_mode": {
    "name": "ipython",
    "version": 2
   },
   "file_extension": ".py",
   "mimetype": "text/x-python",
   "name": "python",
   "nbconvert_exporter": "python",
   "pygments_lexer": "ipython2",
   "version": "2.7.11+"
  }
 },
 "nbformat": 4,
 "nbformat_minor": 0
}
