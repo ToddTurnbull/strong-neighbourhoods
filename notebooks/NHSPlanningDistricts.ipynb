{
 "cells": [
  {
   "cell_type": "markdown",
   "metadata": {},
   "source": [
    "# 2011 National Household Survey"
   ]
  },
  {
   "cell_type": "code",
   "execution_count": 1,
   "metadata": {
    "collapsed": true
   },
   "outputs": [],
   "source": [
    "%%bash\n",
    "cp ../data/waterloo-region/planning-district-codes.csv ../sources/canada/nhs-planningdistrict/"
   ]
  },
  {
   "cell_type": "code",
   "execution_count": 2,
   "metadata": {
    "collapsed": false
   },
   "outputs": [],
   "source": [
    "from context import tools\n",
    "import agate\n",
    "import re"
   ]
  },
  {
   "cell_type": "code",
   "execution_count": 3,
   "metadata": {
    "collapsed": false,
    "scrolled": true
   },
   "outputs": [
    {
     "name": "stdout",
     "output_type": "stream",
     "text": [
      "/home/oliver/git/strong-neighbourhoods/sources/canada/nhs-planningdistrict\n"
     ]
    }
   ],
   "source": [
    "%cd ../sources/canada/nhs-planningdistrict/"
   ]
  },
  {
   "cell_type": "code",
   "execution_count": 4,
   "metadata": {
    "collapsed": false
   },
   "outputs": [],
   "source": [
    "# strip accented characters from column names\n",
    "tools.recode_headings(\"NHS all.csv\", csv_out=\"nhs-planning-districts.csv\")"
   ]
  },
  {
   "cell_type": "code",
   "execution_count": 5,
   "metadata": {
    "collapsed": false
   },
   "outputs": [
    {
     "name": "stdout",
     "output_type": "stream",
     "text": [
      "|--------------+----------------------------|\n",
      "|  line_number | Geography                  |\n",
      "|--------------+----------------------------|\n",
      "|  1           | WAT - PD - C10 ( 15.6%)    |\n",
      "|  2           | WAT - PD - C1014 ( 28.9%)  |\n",
      "|  3           | WAT - PD - C103 ( 32.8%)   |\n",
      "|  4           | WAT - PD - C109 ( 26.7%)   |\n",
      "|--------------+----------------------------|\n"
     ]
    }
   ],
   "source": [
    "%%bash\n",
    "\n",
    "# index rows with line_number column\n",
    "csvcut -l nhs-planning-districts.csv > nhs-planning-districts-indexed.csv\n",
    "\n",
    "# write column names to a file\n",
    "csvcut -n nhs-planning-districts-indexed.csv > nhs-planning-districts-columns.txt\n",
    "\n",
    "head -n 5 nhs-planning-districts-indexed.csv | csvcut -c 1,2 | csvlook"
   ]
  },
  {
   "cell_type": "markdown",
   "metadata": {},
   "source": [
    "## Planning district codes"
   ]
  },
  {
   "cell_type": "code",
   "execution_count": 6,
   "metadata": {
    "collapsed": false
   },
   "outputs": [
    {
     "name": "stdout",
     "output_type": "stream",
     "text": [
      "|--------------+----------------------------|\n",
      "|  line_number | Geography                  |\n",
      "|--------------+----------------------------|\n",
      "|  1           | WAT - PD - C10 ( 15.6%)    |\n",
      "|  2           | WAT - PD - C1014 ( 28.9%)  |\n",
      "|  3           | WAT - PD - C103 ( 32.8%)   |\n",
      "|  4           | WAT - PD - C109 ( 26.7%)   |\n",
      "|--------------+----------------------------|\n"
     ]
    }
   ],
   "source": [
    "%%bash\n",
    "\n",
    "# extract planning district code and non-response rate from Geography column\n",
    "csvcut -c 1,2 nhs-planning-districts-indexed.csv > nhs-codes-tmp.csv\n",
    "head -n 5 nhs-codes-tmp.csv | csvlook"
   ]
  },
  {
   "cell_type": "code",
   "execution_count": 7,
   "metadata": {
    "collapsed": false,
    "scrolled": true
   },
   "outputs": [],
   "source": [
    "# create a new csv file from nhs-codes-tmp.csv\n",
    "geo = agate.Table.from_csv(\"nhs-codes-tmp.csv\")\n",
    "\n",
    "def match_code(row):\n",
    "    _match = re.match(\"WAT - PD - (.*) \\( (.*)%\\)\", row[\"Geography\"])\n",
    "    _list = [int(row[\"line_number\"])]\n",
    "    _list.extend(list(_match.groups()))\n",
    "    return _list\n",
    "\n",
    "columns = [\"index\", \"code\", \"non-response\"]\n",
    "types = [agate.Number(), agate.Text(), agate.Number()]\n",
    "values = [match_code(row) for row in geo.rows]\n",
    "codes = agate.Table(values, columns, types)\n",
    "codes.to_csv(\"nhs-planning-districts-codes.csv\")"
   ]
  },
  {
   "cell_type": "code",
   "execution_count": 8,
   "metadata": {
    "collapsed": false
   },
   "outputs": [
    {
     "name": "stdout",
     "output_type": "stream",
     "text": [
      "|--------+-------+---------------|\n",
      "|  index | code  | non-response  |\n",
      "|--------+-------+---------------|\n",
      "|  1     | C10   | 15.6          |\n",
      "|  2     | C1014 | 28.9          |\n",
      "|  3     | C103  | 32.8          |\n",
      "|  4     | C109  | 26.7          |\n",
      "|--------+-------+---------------|\n"
     ]
    }
   ],
   "source": [
    "%%bash\n",
    "head -n5 nhs-planning-districts-codes.csv | csvlook"
   ]
  },
  {
   "cell_type": "markdown",
   "metadata": {},
   "source": [
    "## Immigration"
   ]
  },
  {
   "cell_type": "code",
   "execution_count": 9,
   "metadata": {
    "collapsed": false
   },
   "outputs": [
    {
     "name": "stdout",
     "output_type": "stream",
     "text": [
      "1,18,19,20,21,22,23,24,25\n"
     ]
    }
   ],
   "source": [
    "immigration_columns = (\n",
    "  (1, \"index\"),\n",
    "  (18, \"total\"),\n",
    "  (19, \"non-immigrants\"),\n",
    "  (20, \"immigrants\"),\n",
    "  (21, \"immigrants-before-1971\"),\n",
    "  (22, \"immigrants-1971-1980\"),\n",
    "  (23, \"immigrants-1981-1990\"),\n",
    "  (24, \"immigrants-1991-2000\"),\n",
    "  (25, \"immigrants-2001-2011\")\n",
    ")\n",
    "print \",\".join(str(col) for col, name in immigration_columns)"
   ]
  },
  {
   "cell_type": "code",
   "execution_count": 10,
   "metadata": {
    "collapsed": false
   },
   "outputs": [
    {
     "name": "stdout",
     "output_type": "stream",
     "text": [
      "['index', 'total', 'non-immigrants', 'immigrants', 'immigrants-before-1971', 'immigrants-1971-1980', 'immigrants-1981-1990', 'immigrants-1991-2000', 'immigrants-2001-2011']\n"
     ]
    }
   ],
   "source": [
    "print [name for col, name in immigration_columns]"
   ]
  },
  {
   "cell_type": "code",
   "execution_count": 11,
   "metadata": {
    "collapsed": false
   },
   "outputs": [
    {
     "name": "stdout",
     "output_type": "stream",
     "text": [
      "  1: line_number\n",
      "  2: Total population in private households by immigrant status and period of immigration\n",
      "  3:   Non-immigrants\n",
      "  4:   Immigrants\n",
      "  5:     Before 1971\n",
      "  6:     1971 to 1980\n",
      "  7:     1981 to 1990\n",
      "  8:     1991 to 2000\n",
      "  9:     2001 to 2011\n"
     ]
    }
   ],
   "source": [
    "%%bash\n",
    "\n",
    "csvcut -c 1,18,19,20,21,22,23,24,25 nhs-planning-districts-indexed.csv > immigration-tmp.csv\n",
    "csvcut -n immigration-tmp.csv"
   ]
  },
  {
   "cell_type": "code",
   "execution_count": 12,
   "metadata": {
    "collapsed": false,
    "scrolled": true
   },
   "outputs": [],
   "source": [
    "immigration = agate.Table.from_csv(\"immigration-tmp.csv\", [name for col, name in immigration_columns])\n",
    "immigration.to_csv(\"immigration.csv\")"
   ]
  },
  {
   "cell_type": "code",
   "execution_count": 13,
   "metadata": {
    "collapsed": false
   },
   "outputs": [
    {
     "name": "stdout",
     "output_type": "stream",
     "text": [
      "  1: index\n",
      "  2: total\n",
      "  3: non-immigrants\n",
      "  4: immigrants\n",
      "  5: immigrants-before-1971\n",
      "  6: immigrants-1971-1980\n",
      "  7: immigrants-1981-1990\n",
      "  8: immigrants-1991-2000\n",
      "  9: immigrants-2001-2011\n"
     ]
    }
   ],
   "source": [
    "%%bash\n",
    "csvcut -n immigration.csv"
   ]
  },
  {
   "cell_type": "markdown",
   "metadata": {},
   "source": [
    "## Mobility"
   ]
  },
  {
   "cell_type": "code",
   "execution_count": 14,
   "metadata": {
    "collapsed": false
   },
   "outputs": [
    {
     "name": "stdout",
     "output_type": "stream",
     "text": [
      "1,1746,1747,1748,1749,1750,1751,1752,1753,1754\n"
     ]
    }
   ],
   "source": [
    "mobility_columns = (\n",
    "    (1, \"index\"),\n",
    "    (1746, \"total\"),\n",
    "    (1747, \"non-movers\"),\n",
    "    (1748, \"movers\"),\n",
    "    (1749, \"movers-non-migrants\"),\n",
    "    (1750, \"movers-migrants\"),\n",
    "    (1751, \"migrants-internal\"),\n",
    "    (1752, \"internal-intra\"),\n",
    "    (1753, \"internal-inter\"),\n",
    "    (1754, \"migrants-external\")\n",
    ")\n",
    "print \",\".join(str(col) for col, name in mobility_columns)"
   ]
  },
  {
   "cell_type": "code",
   "execution_count": 15,
   "metadata": {
    "collapsed": false
   },
   "outputs": [
    {
     "name": "stdout",
     "output_type": "stream",
     "text": [
      "  1: line_number\n",
      "  2: Total - Mobility status 5 years ago\n",
      "  3:   Non-movers\n",
      "  4:   Movers\n",
      "  5:     Non-migrants\n",
      "  6:     Migrants\n",
      "  7:       Internal migrants\n",
      "  8:         Intraprovincial migrants\n",
      "  9:         Interprovincial migrants\n",
      " 10:       External migrants\n"
     ]
    }
   ],
   "source": [
    "%%bash\n",
    "csvcut -c 1,1746,1747,1748,1749,1750,1751,1752,1753,1754 nhs-planning-districts-indexed.csv > mobility-tmp.csv\n",
    "csvcut -n mobility-tmp.csv"
   ]
  },
  {
   "cell_type": "code",
   "execution_count": 16,
   "metadata": {
    "collapsed": false,
    "scrolled": true
   },
   "outputs": [],
   "source": [
    "mobility = agate.Table.from_csv(\"mobility-tmp.csv\", [name for col, name in mobility_columns])\n",
    "mobility.to_csv(\"mobility.csv\")"
   ]
  },
  {
   "cell_type": "code",
   "execution_count": 17,
   "metadata": {
    "collapsed": false
   },
   "outputs": [
    {
     "name": "stdout",
     "output_type": "stream",
     "text": [
      "  1: index\n",
      "  2: total\n",
      "  3: non-movers\n",
      "  4: movers\n",
      "  5: movers-non-migrants\n",
      "  6: movers-migrants\n",
      "  7: migrants-internal\n",
      "  8: internal-intra\n",
      "  9: internal-inter\n",
      " 10: migrants-external\n"
     ]
    }
   ],
   "source": [
    "%%bash\n",
    "csvcut -n mobility.csv"
   ]
  },
  {
   "cell_type": "markdown",
   "metadata": {},
   "source": [
    "## Educational achievement"
   ]
  },
  {
   "cell_type": "code",
   "execution_count": 18,
   "metadata": {
    "collapsed": false,
    "scrolled": true
   },
   "outputs": [
    {
     "name": "stdout",
     "output_type": "stream",
     "text": [
      "  1: line_number\n",
      "  2: Total population aged 25 to 64 years by highest certificate, diploma or degree\n",
      "  3:   No certificate, diploma or degree\n",
      "  4:   High school diploma or equivalent\n",
      "  5:   Postsecondary certificate, diploma or degree\n",
      "  6:     Apprenticeship or trades certificate or diploma\n",
      "  7:     College, CEGEP or other non-university certificate or diploma\n",
      "  8:     University certificate or diploma below bachelor level\n",
      "  9:     University certificate, diploma or degree at bachelor level or above\n"
     ]
    }
   ],
   "source": [
    "%%bash\n",
    "\n",
    "csvcut -c 1,1803-1810 nhs-planning-districts-indexed.csv > education-tmp.csv\n",
    "csvcut -n education-tmp.csv"
   ]
  },
  {
   "cell_type": "code",
   "execution_count": 19,
   "metadata": {
    "collapsed": false,
    "scrolled": true
   },
   "outputs": [],
   "source": [
    "education_columns = (\n",
    "    (1, \"index\"),\n",
    "    (1803, \"total\"),\n",
    "    (1804, \"none\"),\n",
    "    (1805, \"high-school\"),\n",
    "    (1806, \"post-secondary\"),\n",
    "    (1807, \"trades\"),\n",
    "    (1808, \"college\"),\n",
    "    (1809, \"university-below-bachelor\"),\n",
    "    (1810, \"university-bachelor\")\n",
    ")\n",
    "\n",
    "education = agate.Table.from_csv(\"education-tmp.csv\", [name for col, name in education_columns])\n",
    "education.to_csv(\"education.csv\")"
   ]
  },
  {
   "cell_type": "code",
   "execution_count": 19,
   "metadata": {
    "collapsed": false
   },
   "outputs": [
    {
     "name": "stdout",
     "output_type": "stream",
     "text": [
      "  1: index\n",
      "  2: total\n",
      "  3: none\n",
      "  4: high-school\n",
      "  5: post-secondary\n",
      "  6: trades\n",
      "  7: college\n",
      "  8: university-below-bachelor\n",
      "  9: university-bachelor\n"
     ]
    }
   ],
   "source": [
    "%%bash\n",
    "csvcut -n education.csv"
   ]
  },
  {
   "cell_type": "markdown",
   "metadata": {},
   "source": [
    "## Labour force status"
   ]
  },
  {
   "cell_type": "code",
   "execution_count": 20,
   "metadata": {
    "collapsed": false
   },
   "outputs": [
    {
     "name": "stdout",
     "output_type": "stream",
     "text": [
      "  1: line_number\n",
      "  2: Total population aged 15 years and over by labour force status \n",
      "  3:   In the labour force \n",
      "  4:     Employed \n",
      "  5:     Unemployed\n",
      "  6:   Not in the labour force\n",
      "  7: Participation rate\n",
      "  8: Employment rate \n",
      "  9: Unemployment rate \n"
     ]
    }
   ],
   "source": [
    "%%bash\n",
    "\n",
    "csvcut -c 1,1989-1996 nhs-planning-districts-indexed.csv > labour-tmp.csv\n",
    "csvcut -n labour-tmp.csv"
   ]
  },
  {
   "cell_type": "code",
   "execution_count": 21,
   "metadata": {
    "collapsed": false
   },
   "outputs": [],
   "source": [
    "labour_columns = (\n",
    "    (1, \"index\"),\n",
    "    (1989, \"total\"),\n",
    "    (1990, \"in-labour-force\"),\n",
    "    (1991, \"in-employed\"),\n",
    "    (1992, \"in-unemployed\"),\n",
    "    (1993, \"not-in-labour-force\"),\n",
    "    (1994, \"participation-rate\"),\n",
    "    (1995, \"employment-rate\"),\n",
    "    (1996, \"unemployment-rate\")\n",
    ")\n",
    "\n",
    "labour = agate.Table.from_csv(\"labour-tmp.csv\", [name for col, name in labour_columns])\n",
    "labour.to_csv(\"labour.csv\")"
   ]
  },
  {
   "cell_type": "code",
   "execution_count": 22,
   "metadata": {
    "collapsed": false
   },
   "outputs": [
    {
     "name": "stdout",
     "output_type": "stream",
     "text": [
      "  1: index\n",
      "  2: total\n",
      "  3: in-labour-force\n",
      "  4: in-employed\n",
      "  5: in-unemployed\n",
      "  6: not-in-labour-force\n",
      "  7: participation-rate\n",
      "  8: employment-rate\n",
      "  9: unemployment-rate\n"
     ]
    }
   ],
   "source": [
    "%%bash\n",
    "\n",
    "csvcut -n labour.csv"
   ]
  },
  {
   "cell_type": "markdown",
   "metadata": {},
   "source": [
    "## After tax income"
   ]
  },
  {
   "cell_type": "code",
   "execution_count": 22,
   "metadata": {
    "collapsed": false
   },
   "outputs": [
    {
     "name": "stdout",
     "output_type": "stream",
     "text": [
      "  1: line_number\n",
      "  2: After-tax income in 2010 of population 15 years and over\n",
      "  3:   Without after-tax income\n",
      "  4:   With after-tax income\n",
      "  5:     Under $5,000\n",
      "  6:     $5,000 to $9,999\n",
      "  7:     $10,000 to $14,999\n",
      "  8:     $15,000 to $19,999\n",
      "  9:     $20,000 to $29,999\n",
      " 10:     $30,000 to $39,999\n",
      " 11:     $40,000 to $49,999\n",
      " 12:     $50,000 to $59,999\n",
      " 13:     $60,000 to $79,999\n",
      " 14:     $80,000 to $99,999\n",
      " 15:     $100,000 and over\n",
      " 16:   Median after-tax income $\n"
     ]
    }
   ],
   "source": [
    "%%bash\n",
    "\n",
    "csvcut -c 1,2286-2300 nhs-planning-districts-indexed.csv > income-tmp.csv\n",
    "csvcut -n income-tmp.csv"
   ]
  },
  {
   "cell_type": "code",
   "execution_count": 23,
   "metadata": {
    "collapsed": true
   },
   "outputs": [],
   "source": [
    "income_columns = (\n",
    "    (1, \"index\"),\n",
    "    (2286, \"total\"),\n",
    "    (2287, \"without-income\"),\n",
    "    (2288, \"with-income\"),\n",
    "    (2289, \"under-5\"),\n",
    "    (2290, \"5-10\"),\n",
    "    (2291, \"10-15\"),\n",
    "    (2292, \"15-20\"),\n",
    "    (2293, \"20-30\"),\n",
    "    (2294, \"30-40\"),\n",
    "    (2295, \"40-50\"),\n",
    "    (2296, \"50-60\"),\n",
    "    (2297, \"60-80\"),\n",
    "    (2298, \"80-100\"),\n",
    "    (2299, \"100-plus\"),\n",
    "    (2300, \"median-income\")\n",
    ")\n",
    "\n",
    "income = agate.Table.from_csv(\"income-tmp.csv\", [name for col, name in income_columns])\n",
    "income.to_csv(\"income.csv\")"
   ]
  },
  {
   "cell_type": "code",
   "execution_count": 25,
   "metadata": {
    "collapsed": false
   },
   "outputs": [
    {
     "name": "stdout",
     "output_type": "stream",
     "text": [
      "  1: index\n",
      "  2: total\n",
      "  3: without-income\n",
      "  4: with-income\n",
      "  5: under-5\n",
      "  6: 5-10\n",
      "  7: 10-15\n",
      "  8: 15-20\n",
      "  9: 20-30\n",
      " 10: 30-40\n",
      " 11: 40-50\n",
      " 12: 50-60\n",
      " 13: 60-80\n",
      " 14: 80-100\n",
      " 15: 100-plus\n",
      " 16: median-income\n"
     ]
    }
   ],
   "source": [
    "%%bash\n",
    "\n",
    "csvcut -n income.csv"
   ]
  },
  {
   "cell_type": "markdown",
   "metadata": {},
   "source": [
    "## Dwellings conditions"
   ]
  },
  {
   "cell_type": "code",
   "execution_count": 24,
   "metadata": {
    "collapsed": false
   },
   "outputs": [
    {
     "name": "stdout",
     "output_type": "stream",
     "text": [
      "  1: line_number\n",
      "  2: Total number of occupied private dwellings by condition of dwelling\n",
      "  3:   Only regular maintenance or minor repairs needed\n",
      "  4:   Major repairs needed\n"
     ]
    }
   ],
   "source": [
    "%%bash\n",
    "\n",
    "csvcut -c 1,2493-2495 nhs-planning-districts-indexed.csv > dwellings-tmp.csv\n",
    "csvcut -n dwellings-tmp.csv"
   ]
  },
  {
   "cell_type": "code",
   "execution_count": 25,
   "metadata": {
    "collapsed": false
   },
   "outputs": [],
   "source": [
    "dwellings_columns = (\n",
    "    (1, \"index\"),\n",
    "    (2493, \"total\"),\n",
    "    (2494, \"minor-repairs\"),\n",
    "    (2495, \"major-repairs\")\n",
    ")\n",
    "\n",
    "dwellings = agate.Table.from_csv(\"dwellings-tmp.csv\", [name for col, name in dwellings_columns])\n",
    "dwellings.to_csv(\"dwellings.csv\")"
   ]
  },
  {
   "cell_type": "markdown",
   "metadata": {},
   "source": [
    "## Housing suitability"
   ]
  },
  {
   "cell_type": "code",
   "execution_count": 26,
   "metadata": {
    "collapsed": false
   },
   "outputs": [
    {
     "name": "stdout",
     "output_type": "stream",
     "text": [
      "  1: line_number\n",
      "  2: Total number of private households by housing suitability\n",
      "  3:   Suitable\n",
      "  4:   Not suitable\n"
     ]
    }
   ],
   "source": [
    "%%bash\n",
    "\n",
    "csvcut -c 1,2537-2539 nhs-planning-districts-indexed.csv > housing-tmp.csv\n",
    "csvcut -n housing-tmp.csv"
   ]
  },
  {
   "cell_type": "code",
   "execution_count": 27,
   "metadata": {
    "collapsed": false
   },
   "outputs": [],
   "source": [
    "housing_columns = (\n",
    "    (1, \"index\"),\n",
    "    (2537, \"total\"),\n",
    "    (2538, \"suitable\"),\n",
    "    (2539, \"not-suitable\")\n",
    ")\n",
    "\n",
    "housing = agate.Table.from_csv(\"housing-tmp.csv\", [name for col, name in housing_columns])\n",
    "housing.to_csv(\"housing.csv\")"
   ]
  },
  {
   "cell_type": "code",
   "execution_count": 28,
   "metadata": {
    "collapsed": false
   },
   "outputs": [
    {
     "name": "stdout",
     "output_type": "stream",
     "text": [
      "  1: index\n",
      "  2: total\n",
      "  3: suitable\n",
      "  4: not-suitable\n"
     ]
    }
   ],
   "source": [
    "%%bash\n",
    "\n",
    "csvcut -n housing.csv"
   ]
  },
  {
   "cell_type": "markdown",
   "metadata": {},
   "source": [
    "## Shelter cost"
   ]
  },
  {
   "cell_type": "code",
   "execution_count": 29,
   "metadata": {
    "collapsed": false
   },
   "outputs": [
    {
     "name": "stdout",
     "output_type": "stream",
     "text": [
      "  1: line_number\n",
      "  2: Total number of owner and tenant households with household total income greater than zero, in non-farm, non-reserve private dwellings by shelter-cost-to-income ratio\n",
      "  3:   Spending less than 30% of household total income on shelter costs\n",
      "  4:   Spending 30% or more of household total income on shelter costs\n"
     ]
    }
   ],
   "source": [
    "%%bash\n",
    "\n",
    "csvcut -c 1,2540-2542 nhs-planning-districts-indexed.csv > shelter-tmp.csv\n",
    "csvcut -n shelter-tmp.csv"
   ]
  },
  {
   "cell_type": "code",
   "execution_count": 30,
   "metadata": {
    "collapsed": true
   },
   "outputs": [],
   "source": [
    "shelter_columns = (\n",
    "    (1, \"index\"),\n",
    "    (2540, \"total\"),\n",
    "    (2541, \"less-than-30-percent\"),\n",
    "    (2542, \"30-percent-or-more\")\n",
    ")\n",
    "\n",
    "shelter = agate.Table.from_csv(\"shelter-tmp.csv\", [name for col, name in shelter_columns])\n",
    "shelter.to_csv(\"shelter.csv\")"
   ]
  },
  {
   "cell_type": "code",
   "execution_count": 31,
   "metadata": {
    "collapsed": false
   },
   "outputs": [
    {
     "name": "stdout",
     "output_type": "stream",
     "text": [
      "  1: index\n",
      "  2: total\n",
      "  3: less-than-30-percent\n",
      "  4: 30-percent-or-more\n"
     ]
    }
   ],
   "source": [
    "%%bash\n",
    "\n",
    "csvcut -n shelter.csv"
   ]
  },
  {
   "cell_type": "markdown",
   "metadata": {},
   "source": [
    "## Visible Minorities"
   ]
  },
  {
   "cell_type": "code",
   "execution_count": 32,
   "metadata": {
    "collapsed": false
   },
   "outputs": [
    {
     "name": "stdout",
     "output_type": "stream",
     "text": [
      "  1: line_number\n",
      "  2: Total population in private households by visible minority\n",
      "  3:   Total visible minority population\n",
      "  4:     South Asian\n",
      "  5:     Chinese\n",
      "  6:     Black\n",
      "  7:     Filipino\n",
      "  8:     Latin American\n",
      "  9:     Arab\n",
      " 10:     Southeast Asian\n",
      " 11:     West Asian\n",
      " 12:     Korean\n",
      " 13:     Japanese\n",
      " 14:     Visible minority, n.i.e.\n",
      " 15:     Multiple visible minorities\n",
      " 16:   Not a visible minority\n"
     ]
    }
   ],
   "source": [
    "%%bash\n",
    "\n",
    "csvcut -c 1,459-473 nhs-planning-districts-indexed.csv > minority-tmp.csv\n",
    "csvcut -n minority-tmp.csv"
   ]
  },
  {
   "cell_type": "code",
   "execution_count": 33,
   "metadata": {
    "collapsed": true
   },
   "outputs": [],
   "source": [
    "minority_columns = (\n",
    "    (1, \"index\"),\n",
    "    (459, \"total\"),\n",
    "    (460, \"minority\"),\n",
    "    (461, \"south-asian\"),\n",
    "    (462, \"chinese\"),\n",
    "    (463, \"black\"),\n",
    "    (464, \"filipino\"),\n",
    "    (465, \"latin-american\"),\n",
    "    (466, \"arab\"),\n",
    "    (467, \"southeast-asian\"),\n",
    "    (468, \"west-asian\"),\n",
    "    (469, \"korean\"),\n",
    "    (470, \"japanese\"),\n",
    "    (471, \"other\"),\n",
    "    (472, \"multiple\"),\n",
    "    (473, \"not-minority\"),\n",
    ")\n",
    "\n",
    "minority = agate.Table.from_csv(\"minority-tmp.csv\", [name for col, name in minority_columns])\n",
    "minority.to_csv(\"minority.csv\")"
   ]
  },
  {
   "cell_type": "code",
   "execution_count": 34,
   "metadata": {
    "collapsed": false
   },
   "outputs": [
    {
     "name": "stdout",
     "output_type": "stream",
     "text": [
      "  1: index\n",
      "  2: total\n",
      "  3: minority\n",
      "  4: south-asian\n",
      "  5: chinese\n",
      "  6: black\n",
      "  7: filipino\n",
      "  8: latin-american\n",
      "  9: arab\n",
      " 10: southeast-asian\n",
      " 11: west-asian\n",
      " 12: korean\n",
      " 13: japanese\n",
      " 14: other\n",
      " 15: multiple\n",
      " 16: not-minority\n"
     ]
    }
   ],
   "source": [
    "%%bash\n",
    "csvcut -n minority.csv"
   ]
  },
  {
   "cell_type": "markdown",
   "metadata": {},
   "source": [
    "## Mode of Transportation to Work"
   ]
  },
  {
   "cell_type": "code",
   "execution_count": 35,
   "metadata": {
    "collapsed": false
   },
   "outputs": [
    {
     "name": "stdout",
     "output_type": "stream",
     "text": [
      "  1: line_number\n",
      "  2: Total employed population aged 15 years and over with a usual place of work or no fixed workplace address by mode of transportation \n",
      "  3:   Car, truck or van - as a driver \n",
      "  4:   Car, truck or van - as a passenger \n",
      "  5:   Public transit \n",
      "  6:   Walked\n",
      "  7:   Bicycle\n",
      "  8:   Other methods \n"
     ]
    }
   ],
   "source": [
    "%%bash\n",
    "\n",
    "csvcut -c 1,2193-2199 nhs-planning-districts-indexed.csv > transportation-tmp.csv\n",
    "csvcut -n transportation-tmp.csv"
   ]
  },
  {
   "cell_type": "code",
   "execution_count": 36,
   "metadata": {
    "collapsed": true
   },
   "outputs": [],
   "source": [
    "transportation_columns = (\n",
    "    (1, \"index\"),\n",
    "    (2193, \"total\"),\n",
    "    (2194, \"car-driver\"),\n",
    "    (2195, \"car-passenger\"),\n",
    "    (2196, \"transit\"),\n",
    "    (2197, \"walked\"),\n",
    "    (2198, \"bicycle\"),\n",
    "    (2199, \"other\"),\n",
    ")\n",
    "\n",
    "transportation = agate.Table.from_csv(\"transportation-tmp.csv\", [name for col, name in transportation_columns])\n",
    "transportation.to_csv(\"transportation.csv\")"
   ]
  },
  {
   "cell_type": "code",
   "execution_count": 37,
   "metadata": {
    "collapsed": false
   },
   "outputs": [
    {
     "name": "stdout",
     "output_type": "stream",
     "text": [
      "  1: index\n",
      "  2: total\n",
      "  3: car-driver\n",
      "  4: car-passenger\n",
      "  5: transit\n",
      "  6: walked\n",
      "  7: bicycle\n",
      "  8: other\n"
     ]
    }
   ],
   "source": [
    "%%bash\n",
    "csvcut -n transportation.csv"
   ]
  },
  {
   "cell_type": "markdown",
   "metadata": {},
   "source": [
    "## After tax household income"
   ]
  },
  {
   "cell_type": "code",
   "execution_count": 38,
   "metadata": {
    "collapsed": false
   },
   "outputs": [
    {
     "name": "stdout",
     "output_type": "stream",
     "text": [
      "  1: line_number\n",
      "  2: After-tax income of households in 2010 of private households\n",
      "  3:   Under $5,000\n",
      "  4:   $5,000 to $9,999\n",
      "  5:   $10,000 to $14,999\n",
      "  6:   $15,000 to $19,999\n",
      "  7:   $20,000 to $29,999\n",
      "  8:   $30,000 to $39,999\n",
      "  9:   $40,000 to $49,999\n",
      " 10:   $50,000 to $59,999\n",
      " 11:   $60,000 to $79,999\n",
      " 12:   $80,000 to $99,999\n",
      " 13:   $100,000 and over\n",
      " 14:   Median after-tax household income $\n",
      " 15:   One-person private households\n",
      " 16:     Median after-tax household income $\n",
      " 17:   Two-or-more-persons private households\n",
      " 18:     Median after-tax household income $\n"
     ]
    }
   ],
   "source": [
    "%%bash\n",
    "\n",
    "csvcut -c 1,2570-2581,2587,2589,2592,2594,2597 nhs-planning-districts-indexed.csv > household-income-tmp.csv\n",
    "csvcut -n household-income-tmp.csv"
   ]
  },
  {
   "cell_type": "code",
   "execution_count": 41,
   "metadata": {
    "collapsed": false
   },
   "outputs": [],
   "source": [
    "household_income_columns = (\n",
    "    (1, \"index\"),\n",
    "    (2570, \"total\"),\n",
    "    (2571, \"under-5\"),\n",
    "    (2572, \"5-10\"),\n",
    "    (2573, \"10-15\"),\n",
    "    (2574, \"15-20\"),\n",
    "    (2575, \"20-30\"),\n",
    "    (2576, \"30-40\"),\n",
    "    (2577, \"40-50\"),\n",
    "    (2578, \"50-60\"),\n",
    "    (2579, \"60-80\"),\n",
    "    (2580, \"80-100\"),\n",
    "    (2581, \"100-plus\"),\n",
    "    (2587, \"median-hhi\"),\n",
    "    (2589, \"one-person-hh\"),\n",
    "    (2592, \"one-person-hhi\"),\n",
    "    (2594, \"two-plus-hh\"),\n",
    "    (2597, \"two-plus-hhi\"),\n",
    ")\n",
    "\n",
    "household_income = agate.Table.from_csv(\"household-income-tmp.csv\", [name for col, name in household_income_columns])\n",
    "household_income.to_csv(\"household-income.csv\")"
   ]
  },
  {
   "cell_type": "code",
   "execution_count": 42,
   "metadata": {
    "collapsed": false
   },
   "outputs": [
    {
     "name": "stdout",
     "output_type": "stream",
     "text": [
      "  1: index\n",
      "  2: total\n",
      "  3: under-5\n",
      "  4: 5-10\n",
      "  5: 10-15\n",
      "  6: 15-20\n",
      "  7: 20-30\n",
      "  8: 30-40\n",
      "  9: 40-50\n",
      " 10: 50-60\n",
      " 11: 60-80\n",
      " 12: 80-100\n",
      " 13: 100-plus\n",
      " 14: median-hhi\n",
      " 15: one-person-hh\n",
      " 16: one-person-hhi\n",
      " 17: two-plus-hh\n",
      " 18: two-plus-hhi\n"
     ]
    }
   ],
   "source": [
    "%%bash\n",
    "csvcut -n household-income.csv"
   ]
  },
  {
   "cell_type": "markdown",
   "metadata": {},
   "source": [
    "## Income source"
   ]
  },
  {
   "cell_type": "code",
   "execution_count": 43,
   "metadata": {
    "collapsed": false
   },
   "outputs": [
    {
     "name": "stdout",
     "output_type": "stream",
     "text": [
      "  1: line_number\n",
      "  2: Composition of total income in 2010 of population 15 years and over %\n",
      "  3:   Market income %\n",
      "  4:     Employment income %\n",
      "  5:       Wages and salaries %\n",
      "  6:       Self-employment income %\n",
      "  7:     Investment income %\n",
      "  8:     Retirement pensions, superannuation and annuities %\n",
      "  9:     Other money income %\n",
      " 10:   Government transfer payments %\n",
      " 11:     Canada/Quebec Pension Plan benefits %\n",
      " 12:     Old Age Security pensions and Guaranteed Income Supplement %\n",
      " 13:     Employment Insurance benefits %\n",
      " 14:     Child benefits %\n",
      " 15:     Other income from government sources %\n"
     ]
    }
   ],
   "source": [
    "%%bash\n",
    "\n",
    "csvcut -c 1,2334-2347 nhs-planning-districts-indexed.csv > income-source-tmp.csv\n",
    "csvcut -n income-source-tmp.csv"
   ]
  },
  {
   "cell_type": "code",
   "execution_count": 44,
   "metadata": {
    "collapsed": true
   },
   "outputs": [],
   "source": [
    "income_source_columns = (\n",
    "    (1, \"index\"),\n",
    "    (2334, \"total\"),\n",
    "    (2335, \"market-income\"),\n",
    "    (2336, \"employment\"),\n",
    "    (2337, \"wages-salaries\"),\n",
    "    (2338, \"self-employment\"),\n",
    "    (2339, \"investment\"),\n",
    "    (2340, \"retirement-pension\"),\n",
    "    (2341, \"other-market\"),\n",
    "    (2342, \"government-transfers\"),\n",
    "    (2343, \"CPP\"),\n",
    "    (2344, \"OAS-GIS\"),\n",
    "    (2345, \"EI\"),\n",
    "    (2346, \"child-benefits\"),\n",
    "    (2347, \"other-government\"),\n",
    ")\n",
    "\n",
    "income_source = agate.Table.from_csv(\"income-source-tmp.csv\", [name for col, name in income_source_columns])\n",
    "income_source.to_csv(\"income-source.csv\")"
   ]
  },
  {
   "cell_type": "code",
   "execution_count": 45,
   "metadata": {
    "collapsed": false
   },
   "outputs": [
    {
     "name": "stdout",
     "output_type": "stream",
     "text": [
      "  1: index\n",
      "  2: total\n",
      "  3: market-income\n",
      "  4: employment\n",
      "  5: wages-salaries\n",
      "  6: self-employment\n",
      "  7: investment\n",
      "  8: retirement-pension\n",
      "  9: other-market\n",
      " 10: government-transfers\n",
      " 11: CPP\n",
      " 12: OAS-GIS\n",
      " 13: EI\n",
      " 14: child-benefits\n",
      " 15: other-government\n"
     ]
    }
   ],
   "source": [
    "%%bash\n",
    "csvcut -n income-source.csv"
   ]
  },
  {
   "cell_type": "markdown",
   "metadata": {},
   "source": [
    "## Tenant versus owner households"
   ]
  },
  {
   "cell_type": "code",
   "execution_count": 46,
   "metadata": {
    "collapsed": false
   },
   "outputs": [
    {
     "name": "stdout",
     "output_type": "stream",
     "text": [
      "  1: line_number\n",
      "  2: Number of owner households in non-farm, non-reserve private dwellings\n",
      "  3:   % of owner households spending 30% or more of household total income on shelter costs\n",
      "  4:   Median monthly shelter costs for owned dwellings ($)\n",
      "  5:   Median value of dwellings ($)\n",
      "  6: Number of tenant households in non-farm, non-reserve private dwellings\n",
      "  7:   % of tenant households in subsidized housing\n",
      "  8:   % of tenant households spending 30% or more of household total income on shelter costs\n",
      "  9:   Median monthly shelter costs for rented dwellings ($)\n"
     ]
    }
   ],
   "source": [
    "%%bash\n",
    "\n",
    "csvcut -c 1,2544,2546-2547,2549,2551-2554 nhs-planning-districts-indexed.csv > tenant-owner-tmp.csv\n",
    "csvcut -n tenant-owner-tmp.csv"
   ]
  },
  {
   "cell_type": "code",
   "execution_count": 47,
   "metadata": {
    "collapsed": true
   },
   "outputs": [],
   "source": [
    "tenant_owner_columns = (\n",
    "    (1, \"index\"),\n",
    "    (2544, \"owner-households\"),\n",
    "    (2546, \"percent-owner-30-percent-or-more\"),\n",
    "    (2547, \"owner-median-monthly-shelter-cost\"),\n",
    "    (2549, \"owner-median-value-dwelling\"),\n",
    "    (2551, \"tenant-households\"),\n",
    "    (2552, \"percent-subsidized-housing\"),\n",
    "    (2553, \"percent-tenant-30-percent-or-more\"),\n",
    "    (2554, \"tenant-median-monthly-shelter-cost\"),\n",
    ")\n",
    "\n",
    "tenant_owner = agate.Table.from_csv(\"tenant-owner-tmp.csv\", [name for col, name in tenant_owner_columns])\n",
    "tenant_owner.to_csv(\"tenant-owner.csv\")"
   ]
  },
  {
   "cell_type": "code",
   "execution_count": 48,
   "metadata": {
    "collapsed": false
   },
   "outputs": [
    {
     "name": "stdout",
     "output_type": "stream",
     "text": [
      "  1: index\n",
      "  2: owner-households\n",
      "  3: percent-owner-30-percent-or-more\n",
      "  4: owner-median-monthly-shelter-cost\n",
      "  5: owner-median-value-dwelling\n",
      "  6: tenant-households\n",
      "  7: percent-subsidized-housing\n",
      "  8: percent-tenant-30-percent-or-more\n",
      "  9: tenant-median-monthly-shelter-cost\n"
     ]
    }
   ],
   "source": [
    "%%bash\n",
    "csvcut -n tenant-owner.csv"
   ]
  },
  {
   "cell_type": "code",
   "execution_count": null,
   "metadata": {
    "collapsed": true
   },
   "outputs": [],
   "source": []
  }
 ],
 "metadata": {
  "kernelspec": {
   "display_name": "Python 2",
   "language": "python",
   "name": "python2"
  },
  "language_info": {
   "codemirror_mode": {
    "name": "ipython",
    "version": 2
   },
   "file_extension": ".py",
   "mimetype": "text/x-python",
   "name": "python",
   "nbconvert_exporter": "python",
   "pygments_lexer": "ipython2",
   "version": "2.7.12"
  }
 },
 "nbformat": 4,
 "nbformat_minor": 0
}
