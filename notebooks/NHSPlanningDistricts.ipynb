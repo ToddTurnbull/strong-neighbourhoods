{
 "cells": [
  {
   "cell_type": "markdown",
   "metadata": {},
   "source": [
    "# 2011 National Household Survey"
   ]
  },
  {
   "cell_type": "code",
   "execution_count": 1,
   "metadata": {
    "collapsed": true
   },
   "outputs": [],
   "source": [
    "%%bash\n",
    "cp ../data/waterloo-region/planning-district-codes.csv ../sources/canada/nhs-planningdistrict/"
   ]
  },
  {
   "cell_type": "code",
   "execution_count": 2,
   "metadata": {
    "collapsed": false
   },
   "outputs": [],
   "source": [
    "from context import tools\n",
    "import agate\n",
    "import re"
   ]
  },
  {
   "cell_type": "code",
   "execution_count": null,
   "metadata": {
    "collapsed": false,
    "scrolled": true
   },
   "outputs": [],
   "source": [
    "%cd ../sources/canada/nhs-planningdistrict/"
   ]
  },
  {
   "cell_type": "code",
   "execution_count": 4,
   "metadata": {
    "collapsed": false
   },
   "outputs": [],
   "source": [
    "# strip accented characters from column names\n",
    "tools.recode_headings(\"NHS all.csv\", csv_out=\"nhs-planning-districts.csv\")"
   ]
  },
  {
   "cell_type": "code",
   "execution_count": 5,
   "metadata": {
    "collapsed": false
   },
   "outputs": [
    {
     "name": "stdout",
     "output_type": "stream",
     "text": [
      "|--------------+----------------------------|\n",
      "|  line_number | Geography                  |\n",
      "|--------------+----------------------------|\n",
      "|  1           | WAT - PD - C10 ( 15.6%)    |\n",
      "|  2           | WAT - PD - C1014 ( 28.9%)  |\n",
      "|  3           | WAT - PD - C103 ( 32.8%)   |\n",
      "|  4           | WAT - PD - C109 ( 26.7%)   |\n",
      "|--------------+----------------------------|\n"
     ]
    }
   ],
   "source": [
    "%%bash\n",
    "\n",
    "# index rows with line_number column\n",
    "csvcut -l nhs-planning-districts.csv > nhs-planning-districts-indexed.csv\n",
    "\n",
    "# write column names to a file\n",
    "csvcut -n nhs-planning-districts-indexed.csv > nhs-planning-districts-columns.txt\n",
    "\n",
    "head -n 5 nhs-planning-districts-indexed.csv | csvcut -c 1,2 | csvlook"
   ]
  },
  {
   "cell_type": "markdown",
   "metadata": {},
   "source": [
    "## Planning district codes"
   ]
  },
  {
   "cell_type": "code",
   "execution_count": 6,
   "metadata": {
    "collapsed": false
   },
   "outputs": [
    {
     "name": "stdout",
     "output_type": "stream",
     "text": [
      "|--------------+----------------------------|\n",
      "|  line_number | Geography                  |\n",
      "|--------------+----------------------------|\n",
      "|  1           | WAT - PD - C10 ( 15.6%)    |\n",
      "|  2           | WAT - PD - C1014 ( 28.9%)  |\n",
      "|  3           | WAT - PD - C103 ( 32.8%)   |\n",
      "|  4           | WAT - PD - C109 ( 26.7%)   |\n",
      "|--------------+----------------------------|\n"
     ]
    }
   ],
   "source": [
    "%%bash\n",
    "\n",
    "# extract planning district code and non-response rate from Geography column\n",
    "csvcut -c 1,2 nhs-planning-districts-indexed.csv > nhs-codes-tmp.csv\n",
    "head -n 5 nhs-codes-tmp.csv | csvlook"
   ]
  },
  {
   "cell_type": "code",
   "execution_count": 7,
   "metadata": {
    "collapsed": false,
    "scrolled": true
   },
   "outputs": [],
   "source": [
    "# create a new csv file from nhs-codes-tmp.csv\n",
    "geo = agate.Table.from_csv(\"nhs-codes-tmp.csv\")\n",
    "\n",
    "def match_code(row):\n",
    "    _match = re.match(\"WAT - PD - (.*) \\( (.*)%\\)\", row[\"Geography\"])\n",
    "    _list = [int(row[\"line_number\"])]\n",
    "    _list.extend(list(_match.groups()))\n",
    "    return _list\n",
    "\n",
    "columns = [\"index\", \"code\", \"non-response\"]\n",
    "types = [agate.Number(), agate.Text(), agate.Number()]\n",
    "values = [match_code(row) for row in geo.rows]\n",
    "codes = agate.Table(values, columns, types)\n",
    "codes.to_csv(\"nhs-planning-districts-codes.csv\")"
   ]
  },
  {
   "cell_type": "code",
   "execution_count": 8,
   "metadata": {
    "collapsed": false
   },
   "outputs": [
    {
     "name": "stdout",
     "output_type": "stream",
     "text": [
      "|--------+-------+---------------|\n",
      "|  index | code  | non-response  |\n",
      "|--------+-------+---------------|\n",
      "|  1     | C10   | 15.6          |\n",
      "|  2     | C1014 | 28.9          |\n",
      "|  3     | C103  | 32.8          |\n",
      "|  4     | C109  | 26.7          |\n",
      "|--------+-------+---------------|\n"
     ]
    }
   ],
   "source": [
    "%%bash\n",
    "head -n5 nhs-planning-districts-codes.csv | csvlook"
   ]
  },
  {
   "cell_type": "markdown",
   "metadata": {},
   "source": [
    "## Immigration"
   ]
  },
  {
   "cell_type": "code",
   "execution_count": 9,
   "metadata": {
    "collapsed": false
   },
   "outputs": [
    {
     "name": "stdout",
     "output_type": "stream",
     "text": [
      "1,18,19,20,21,22,23,24,25\n"
     ]
    }
   ],
   "source": [
    "immigration_columns = (\n",
    "  (1, \"index\"),\n",
    "  (18, \"total\"),\n",
    "  (19, \"non-immigrants\"),\n",
    "  (20, \"immigrants\"),\n",
    "  (21, \"immigrants-before-1971\"),\n",
    "  (22, \"immigrants-1971-1980\"),\n",
    "  (23, \"immigrants-1981-1990\"),\n",
    "  (24, \"immigrants-1991-2000\"),\n",
    "  (25, \"immigrants-2001-2011\")\n",
    ")\n",
    "print \",\".join(str(col) for col, name in immigration_columns)"
   ]
  },
  {
   "cell_type": "code",
   "execution_count": 10,
   "metadata": {
    "collapsed": false
   },
   "outputs": [
    {
     "name": "stdout",
     "output_type": "stream",
     "text": [
      "  1: line_number\n",
      "  2: Total population in private households by immigrant status and period of immigration\n",
      "  3:   Non-immigrants\n",
      "  4:   Immigrants\n",
      "  5:     Before 1971\n",
      "  6:     1971 to 1980\n",
      "  7:     1981 to 1990\n",
      "  8:     1991 to 2000\n",
      "  9:     2001 to 2011\n"
     ]
    }
   ],
   "source": [
    "%%bash\n",
    "\n",
    "csvcut -c 1,18,19,20,21,22,23,24,25 nhs-planning-districts-indexed.csv > immigration-tmp.csv\n",
    "csvcut -n immigration-tmp.csv"
   ]
  },
  {
   "cell_type": "code",
   "execution_count": 11,
   "metadata": {
    "collapsed": false,
    "scrolled": true
   },
   "outputs": [],
   "source": [
    "immigration = agate.Table.from_csv(\"immigration-tmp.csv\", [name for col, name in immigration_columns])\n",
    "immigration.to_csv(\"immigration.csv\")"
   ]
  },
  {
   "cell_type": "code",
   "execution_count": 12,
   "metadata": {
    "collapsed": false
   },
   "outputs": [
    {
     "name": "stdout",
     "output_type": "stream",
     "text": [
      "  1: index\n",
      "  2: total\n",
      "  3: non-immigrants\n",
      "  4: immigrants\n",
      "  5: immigrants-before-1971\n",
      "  6: immigrants-1971-1980\n",
      "  7: immigrants-1981-1990\n",
      "  8: immigrants-1991-2000\n",
      "  9: immigrants-2001-2011\n"
     ]
    }
   ],
   "source": [
    "%%bash\n",
    "csvcut -n immigration.csv"
   ]
  },
  {
   "cell_type": "markdown",
   "metadata": {},
   "source": [
    "## Mobility"
   ]
  },
  {
   "cell_type": "code",
   "execution_count": 13,
   "metadata": {
    "collapsed": false
   },
   "outputs": [
    {
     "name": "stdout",
     "output_type": "stream",
     "text": [
      "1,1746,1747,1748,1749,1750,1751,1752,1753,1754\n"
     ]
    }
   ],
   "source": [
    "mobility_columns = (\n",
    "    (1, \"index\"),\n",
    "    (1746, \"total\"),\n",
    "    (1747, \"non-movers\"),\n",
    "    (1748, \"movers\"),\n",
    "    (1749, \"movers-non-migrants\"),\n",
    "    (1750, \"movers-migrants\"),\n",
    "    (1751, \"migrants-internal\"),\n",
    "    (1752, \"internal-intra\"),\n",
    "    (1753, \"internal-inter\"),\n",
    "    (1754, \"migrants-external\")\n",
    ")\n",
    "print \",\".join(str(col) for col, name in mobility_columns)"
   ]
  },
  {
   "cell_type": "code",
   "execution_count": 14,
   "metadata": {
    "collapsed": false
   },
   "outputs": [
    {
     "name": "stdout",
     "output_type": "stream",
     "text": [
      "  1: line_number\n",
      "  2: Total - Mobility status 5 years ago\n",
      "  3:   Non-movers\n",
      "  4:   Movers\n",
      "  5:     Non-migrants\n",
      "  6:     Migrants\n",
      "  7:       Internal migrants\n",
      "  8:         Intraprovincial migrants\n",
      "  9:         Interprovincial migrants\n",
      " 10:       External migrants\n"
     ]
    }
   ],
   "source": [
    "%%bash\n",
    "csvcut -c 1,1746,1747,1748,1749,1750,1751,1752,1753,1754 nhs-planning-districts-indexed.csv > mobility-tmp.csv\n",
    "csvcut -n mobility-tmp.csv"
   ]
  },
  {
   "cell_type": "code",
   "execution_count": 15,
   "metadata": {
    "collapsed": false,
    "scrolled": true
   },
   "outputs": [],
   "source": [
    "mobility = agate.Table.from_csv(\"mobility-tmp.csv\", [name for col, name in mobility_columns])\n",
    "mobility.to_csv(\"mobility.csv\")"
   ]
  },
  {
   "cell_type": "code",
   "execution_count": 16,
   "metadata": {
    "collapsed": false
   },
   "outputs": [
    {
     "name": "stdout",
     "output_type": "stream",
     "text": [
      "  1: index\n",
      "  2: total\n",
      "  3: non-movers\n",
      "  4: movers\n",
      "  5: movers-non-migrants\n",
      "  6: movers-migrants\n",
      "  7: migrants-internal\n",
      "  8: internal-intra\n",
      "  9: internal-inter\n",
      " 10: migrants-external\n"
     ]
    }
   ],
   "source": [
    "%%bash\n",
    "csvcut -n mobility.csv"
   ]
  },
  {
   "cell_type": "markdown",
   "metadata": {},
   "source": [
    "## Educational achievement"
   ]
  },
  {
   "cell_type": "code",
   "execution_count": 17,
   "metadata": {
    "collapsed": false
   },
   "outputs": [
    {
     "name": "stdout",
     "output_type": "stream",
     "text": [
      "  1: line_number\n",
      "  2: Total population aged 25 to 64 years by highest certificate, diploma or degree\n",
      "  3:   No certificate, diploma or degree\n",
      "  4:   High school diploma or equivalent\n",
      "  5:   Postsecondary certificate, diploma or degree\n",
      "  6:     Apprenticeship or trades certificate or diploma\n",
      "  7:     College, CEGEP or other non-university certificate or diploma\n",
      "  8:     University certificate or diploma below bachelor level\n",
      "  9:     University certificate, diploma or degree at bachelor level or above\n"
     ]
    }
   ],
   "source": [
    "%%bash\n",
    "\n",
    "csvcut -c 1,1803-1810 nhs-planning-districts-indexed.csv > education-tmp.csv\n",
    "csvcut -n education-tmp.csv"
   ]
  },
  {
   "cell_type": "code",
   "execution_count": 18,
   "metadata": {
    "collapsed": false,
    "scrolled": true
   },
   "outputs": [],
   "source": [
    "education_columns = (\n",
    "    (1, \"index\"),\n",
    "    (1803, \"total\"),\n",
    "    (1804, \"none\"),\n",
    "    (1805, \"high-school\"),\n",
    "    (1806, \"post-secondary\"),\n",
    "    (1807, \"trades\"),\n",
    "    (1808, \"college\"),\n",
    "    (1809, \"university-below-bachelor\"),\n",
    "    (1810, \"university-bachelor\")\n",
    ")\n",
    "\n",
    "education = agate.Table.from_csv(\"education-tmp.csv\", [name for col, name in education_columns])\n",
    "education.to_csv(\"education.csv\")"
   ]
  },
  {
   "cell_type": "code",
   "execution_count": 19,
   "metadata": {
    "collapsed": false
   },
   "outputs": [
    {
     "name": "stdout",
     "output_type": "stream",
     "text": [
      "  1: index\n",
      "  2: total\n",
      "  3: none\n",
      "  4: high-school\n",
      "  5: post-secondary\n",
      "  6: trades\n",
      "  7: college\n",
      "  8: university-below-bachelor\n",
      "  9: university-bachelor\n"
     ]
    }
   ],
   "source": [
    "%%bash\n",
    "csvcut -n education.csv"
   ]
  },
  {
   "cell_type": "markdown",
   "metadata": {},
   "source": [
    "## Labour force status"
   ]
  },
  {
   "cell_type": "code",
   "execution_count": 20,
   "metadata": {
    "collapsed": false
   },
   "outputs": [
    {
     "name": "stdout",
     "output_type": "stream",
     "text": [
      "  1: line_number\n",
      "  2: Total population aged 15 years and over by labour force status \n",
      "  3:   In the labour force \n",
      "  4:     Employed \n",
      "  5:     Unemployed\n",
      "  6:   Not in the labour force\n",
      "  7: Participation rate\n",
      "  8: Employment rate \n",
      "  9: Unemployment rate \n"
     ]
    }
   ],
   "source": [
    "%%bash\n",
    "\n",
    "csvcut -c 1,1989-1996 nhs-planning-districts-indexed.csv > labour-tmp.csv\n",
    "csvcut -n labour-tmp.csv"
   ]
  },
  {
   "cell_type": "code",
   "execution_count": 21,
   "metadata": {
    "collapsed": false
   },
   "outputs": [],
   "source": [
    "labour_columns = (\n",
    "    (1, \"index\"),\n",
    "    (1989, \"total\"),\n",
    "    (1990, \"in-labour-force\"),\n",
    "    (1991, \"in-employed\"),\n",
    "    (1992, \"in-unemployed\"),\n",
    "    (1993, \"not-in-labour-force\"),\n",
    "    (1994, \"participation-rate\"),\n",
    "    (1995, \"employment-rate\"),\n",
    "    (1996, \"unemployment-rate\")\n",
    ")\n",
    "\n",
    "labour = agate.Table.from_csv(\"labour-tmp.csv\", [name for col, name in labour_columns])\n",
    "labour.to_csv(\"labour.csv\")"
   ]
  },
  {
   "cell_type": "code",
   "execution_count": 22,
   "metadata": {
    "collapsed": false
   },
   "outputs": [
    {
     "name": "stdout",
     "output_type": "stream",
     "text": [
      "  1: index\n",
      "  2: total\n",
      "  3: in-labour-force\n",
      "  4: in-employed\n",
      "  5: in-unemployed\n",
      "  6: not-in-labour-force\n",
      "  7: participation-rate\n",
      "  8: employment-rate\n",
      "  9: unemployment-rate\n"
     ]
    }
   ],
   "source": [
    "%%bash\n",
    "\n",
    "csvcut -n labour.csv"
   ]
  },
  {
   "cell_type": "markdown",
   "metadata": {},
   "source": [
    "## After tax income"
   ]
  },
  {
   "cell_type": "code",
   "execution_count": 23,
   "metadata": {
    "collapsed": false
   },
   "outputs": [
    {
     "name": "stdout",
     "output_type": "stream",
     "text": [
      "  1: line_number\n",
      "  2: After-tax income in 2010 of population 15 years and over\n",
      "  3:   Without after-tax income\n",
      "  4:   With after-tax income\n",
      "  5:     Under $5,000\n",
      "  6:     $5,000 to $9,999\n",
      "  7:     $10,000 to $14,999\n",
      "  8:     $15,000 to $19,999\n",
      "  9:     $20,000 to $29,999\n",
      " 10:     $30,000 to $39,999\n",
      " 11:     $40,000 to $49,999\n",
      " 12:     $50,000 to $59,999\n",
      " 13:     $60,000 to $79,999\n",
      " 14:     $80,000 to $99,999\n",
      " 15:     $100,000 and over\n",
      " 16:   Median after-tax income $\n"
     ]
    }
   ],
   "source": [
    "%%bash\n",
    "\n",
    "csvcut -c 1,2286-2300 nhs-planning-districts-indexed.csv > income-tmp.csv\n",
    "csvcut -n income-tmp.csv"
   ]
  },
  {
   "cell_type": "code",
   "execution_count": 24,
   "metadata": {
    "collapsed": true
   },
   "outputs": [],
   "source": [
    "income_columns = (\n",
    "    (1, \"index\"),\n",
    "    (2286, \"total\"),\n",
    "    (2287, \"without-income\"),\n",
    "    (2288, \"with-income\"),\n",
    "    (2289, \"under-5\"),\n",
    "    (2290, \"5-10\"),\n",
    "    (2291, \"10-15\"),\n",
    "    (2292, \"15-20\"),\n",
    "    (2293, \"20-30\"),\n",
    "    (2294, \"30-40\"),\n",
    "    (2295, \"40-50\"),\n",
    "    (2296, \"50-60\"),\n",
    "    (2297, \"60-80\"),\n",
    "    (2298, \"80-100\"),\n",
    "    (2299, \"100-plus\"),\n",
    "    (2300, \"median-income\")\n",
    ")\n",
    "\n",
    "income = agate.Table.from_csv(\"income-tmp.csv\", [name for col, name in income_columns])\n",
    "income.to_csv(\"income.csv\")"
   ]
  },
  {
   "cell_type": "code",
   "execution_count": 25,
   "metadata": {
    "collapsed": false
   },
   "outputs": [
    {
     "name": "stdout",
     "output_type": "stream",
     "text": [
      "  1: index\n",
      "  2: total\n",
      "  3: without-income\n",
      "  4: with-income\n",
      "  5: under-5\n",
      "  6: 5-10\n",
      "  7: 10-15\n",
      "  8: 15-20\n",
      "  9: 20-30\n",
      " 10: 30-40\n",
      " 11: 40-50\n",
      " 12: 50-60\n",
      " 13: 60-80\n",
      " 14: 80-100\n",
      " 15: 100-plus\n",
      " 16: median-income\n"
     ]
    }
   ],
   "source": [
    "%%bash\n",
    "\n",
    "csvcut -n income.csv"
   ]
  },
  {
   "cell_type": "markdown",
   "metadata": {},
   "source": [
    "## Dwellings conditions"
   ]
  },
  {
   "cell_type": "code",
   "execution_count": 26,
   "metadata": {
    "collapsed": false
   },
   "outputs": [
    {
     "name": "stdout",
     "output_type": "stream",
     "text": [
      "  1: line_number\n",
      "  2: Total number of occupied private dwellings by condition of dwelling\n",
      "  3:   Only regular maintenance or minor repairs needed\n",
      "  4:   Major repairs needed\n"
     ]
    }
   ],
   "source": [
    "%%bash\n",
    "\n",
    "csvcut -c 1,2493-2495 nhs-planning-districts-indexed.csv > dwellings-tmp.csv\n",
    "csvcut -n dwellings-tmp.csv"
   ]
  },
  {
   "cell_type": "code",
   "execution_count": 27,
   "metadata": {
    "collapsed": false
   },
   "outputs": [],
   "source": [
    "dwellings_columns = (\n",
    "    (1, \"index\"),\n",
    "    (2493, \"total\"),\n",
    "    (2494, \"minor-repairs\"),\n",
    "    (2495, \"major-repairs\")\n",
    ")\n",
    "\n",
    "dwellings = agate.Table.from_csv(\"dwellings-tmp.csv\", [name for col, name in dwellings_columns])\n",
    "dwellings.to_csv(\"dwellings.csv\")"
   ]
  },
  {
   "cell_type": "markdown",
   "metadata": {},
   "source": [
    "## Housing suitability"
   ]
  },
  {
   "cell_type": "code",
   "execution_count": 28,
   "metadata": {
    "collapsed": false
   },
   "outputs": [
    {
     "name": "stdout",
     "output_type": "stream",
     "text": [
      "  1: line_number\n",
      "  2: Total number of private households by housing suitability\n",
      "  3:   Suitable\n",
      "  4:   Not suitable\n"
     ]
    }
   ],
   "source": [
    "%%bash\n",
    "\n",
    "csvcut -c 1,2537-2539 nhs-planning-districts-indexed.csv > housing-tmp.csv\n",
    "csvcut -n housing-tmp.csv"
   ]
  },
  {
   "cell_type": "code",
   "execution_count": 29,
   "metadata": {
    "collapsed": false
   },
   "outputs": [],
   "source": [
    "housing_columns = (\n",
    "    (1, \"index\"),\n",
    "    (2537, \"total\"),\n",
    "    (2538, \"suitable\"),\n",
    "    (2539, \"not-suitable\")\n",
    ")\n",
    "\n",
    "housing = agate.Table.from_csv(\"housing-tmp.csv\", [name for col, name in housing_columns])\n",
    "housing.to_csv(\"housing.csv\")"
   ]
  },
  {
   "cell_type": "code",
   "execution_count": 30,
   "metadata": {
    "collapsed": false
   },
   "outputs": [
    {
     "name": "stdout",
     "output_type": "stream",
     "text": [
      "  1: index\n",
      "  2: total\n",
      "  3: suitable\n",
      "  4: not-suitable\n"
     ]
    }
   ],
   "source": [
    "%%bash\n",
    "\n",
    "csvcut -n housing.csv"
   ]
  },
  {
   "cell_type": "markdown",
   "metadata": {},
   "source": [
    "## Shelter cost"
   ]
  },
  {
   "cell_type": "code",
   "execution_count": 31,
   "metadata": {
    "collapsed": false
   },
   "outputs": [
    {
     "name": "stdout",
     "output_type": "stream",
     "text": [
      "  1: line_number\n",
      "  2: Total number of owner and tenant households with household total income greater than zero, in non-farm, non-reserve private dwellings by shelter-cost-to-income ratio\n",
      "  3:   Spending less than 30% of household total income on shelter costs\n",
      "  4:   Spending 30% or more of household total income on shelter costs\n"
     ]
    }
   ],
   "source": [
    "%%bash\n",
    "\n",
    "csvcut -c 1,2540-2542 nhs-planning-districts-indexed.csv > shelter-tmp.csv\n",
    "csvcut -n shelter-tmp.csv"
   ]
  },
  {
   "cell_type": "code",
   "execution_count": 32,
   "metadata": {
    "collapsed": true
   },
   "outputs": [],
   "source": [
    "shelter_columns = (\n",
    "    (1, \"index\"),\n",
    "    (2540, \"total\"),\n",
    "    (2541, \"less-than-30-percent\"),\n",
    "    (2542, \"30-percent-or-more\")\n",
    ")\n",
    "\n",
    "shelter = agate.Table.from_csv(\"shelter-tmp.csv\", [name for col, name in shelter_columns])\n",
    "shelter.to_csv(\"shelter.csv\")"
   ]
  },
  {
   "cell_type": "code",
   "execution_count": 33,
   "metadata": {
    "collapsed": false
   },
   "outputs": [
    {
     "name": "stdout",
     "output_type": "stream",
     "text": [
      "  1: index\n",
      "  2: total\n",
      "  3: less-than-30-percent\n",
      "  4: 30-percent-or-more\n"
     ]
    }
   ],
   "source": [
    "%%bash\n",
    "\n",
    "csvcut -n shelter.csv"
   ]
  }
 ],
 "metadata": {
  "kernelspec": {
   "display_name": "Python 2",
   "language": "python",
   "name": "python2"
  },
  "language_info": {
   "codemirror_mode": {
    "name": "ipython",
    "version": 2
   },
   "file_extension": ".py",
   "mimetype": "text/x-python",
   "name": "python",
   "nbconvert_exporter": "python",
   "pygments_lexer": "ipython2",
   "version": "2.7.11+"
  }
 },
 "nbformat": 4,
 "nbformat_minor": 0
}
