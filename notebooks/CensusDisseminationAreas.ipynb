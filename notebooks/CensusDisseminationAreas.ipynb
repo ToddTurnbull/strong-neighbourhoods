{
 "cells": [
  {
   "cell_type": "markdown",
   "metadata": {},
   "source": [
    "# Census Dissemination Areas\n"
   ]
  },
  {
   "cell_type": "markdown",
   "metadata": {},
   "source": [
    "## Overview\n",
    "\n",
    "Let's explore the data with [csvkit](http://csvkit.readthedocs.io/en/0.9.1/)"
   ]
  },
  {
   "cell_type": "markdown",
   "metadata": {},
   "source": [
    "### List all (470) column names\n",
    "\n",
    "And save it to [columns.txt](columns.txt)\n",
    "\n",
    "```\n",
    "csvcut -n census_dissemination.csv > columns.txt\n",
    "```"
   ]
  },
  {
   "cell_type": "code",
   "execution_count": null,
   "metadata": {
    "collapsed": true
   },
   "outputs": [],
   "source": [
    "%cd ../sources/canada/census-dissemination/"
   ]
  },
  {
   "cell_type": "markdown",
   "metadata": {},
   "source": [
    "### Look at the first 3 columns of the first 4 rows"
   ]
  },
  {
   "cell_type": "code",
   "execution_count": null,
   "metadata": {
    "collapsed": false,
    "scrolled": true
   },
   "outputs": [],
   "source": [
    "%%bash\n",
    "head -n 5 census_dissemination.csv | csvcut -c 1,2,3 | csvlook"
   ]
  },
  {
   "cell_type": "markdown",
   "metadata": {},
   "source": [
    "### Find Geography values starting with a letter"
   ]
  },
  {
   "cell_type": "code",
   "execution_count": null,
   "metadata": {
    "collapsed": false
   },
   "outputs": [],
   "source": [
    "%%bash\n",
    "csvcut -c 1,2 census_dissemination.csv | csvgrep -c 1 -r \"^[A-Z]\" | csvlook"
   ]
  },
  {
   "cell_type": "markdown",
   "metadata": {},
   "source": [
    "### Population\n",
    "\n",
    "The column values for \"Population, 2011\" and \"Total population by age groups\" don't quite match:"
   ]
  },
  {
   "cell_type": "code",
   "execution_count": null,
   "metadata": {
    "collapsed": false
   },
   "outputs": [],
   "source": [
    "%%bash\n",
    "head -n 10 census_dissemination.csv | csvcut -c 1,2,6 | csvlook\n"
   ]
  },
  {
   "cell_type": "markdown",
   "metadata": {},
   "source": [
    "### Create a new file with line numbers added"
   ]
  },
  {
   "cell_type": "code",
   "execution_count": null,
   "metadata": {
    "collapsed": false
   },
   "outputs": [],
   "source": [
    "%%bash\n",
    "csvcut -l census_dissemination.csv > census_indexed.csv\n",
    "head -n 5 census_indexed.csv | csvcut -c 1,2,3 | csvlook\n"
   ]
  },
  {
   "cell_type": "markdown",
   "metadata": {},
   "source": [
    "### Create new files with groups of related columns"
   ]
  },
  {
   "cell_type": "code",
   "execution_count": null,
   "metadata": {
    "collapsed": false
   },
   "outputs": [],
   "source": [
    "%%bash\n",
    "# dwellings and land area\n",
    "csvcut -c 1,2,3,4,5,6 census_indexed.csv > census_dwellings.csv\n",
    "csvcut -n census_dwellings.csv\n"
   ]
  },
  {
   "cell_type": "code",
   "execution_count": null,
   "metadata": {
    "collapsed": false,
    "scrolled": true
   },
   "outputs": [],
   "source": [
    "%%bash\n",
    "# age groups\n",
    "csvcut -c 1,2,3,7,8,9,10,11,12,13,14,15,16,17,18,19,20,21,22,23,24,25,26,27,28,29,30,31,32 \\\n",
    "census_indexed.csv > census_age_groups.csv\n",
    "csvcut -n census_age_groups.csv\n"
   ]
  },
  {
   "cell_type": "markdown",
   "metadata": {},
   "source": [
    "### Joining data files"
   ]
  },
  {
   "cell_type": "code",
   "execution_count": null,
   "metadata": {
    "collapsed": false
   },
   "outputs": [],
   "source": [
    "%%bash\n",
    "csvjoin -c \"line_number\" census_age_groups.csv census_dwellings.csv | \\\n",
    "csvgrep -c 2 -r \"^[A-Z]\" | csvcut -c 1,2,5,35 > census_join_example.csv\n",
    "csvlook census_join_example.csv\n"
   ]
  },
  {
   "cell_type": "markdown",
   "metadata": {},
   "source": [
    "## Agate"
   ]
  },
  {
   "cell_type": "code",
   "execution_count": null,
   "metadata": {
    "collapsed": false
   },
   "outputs": [],
   "source": [
    "import agate\n",
    "\n",
    "# we can specify new column names for census_join_example.csv\n",
    "column_names = [\"id\", \"municipality\", \"population\", \"area\"]\n",
    "\n",
    "# load the csv into agate with the new column names\n",
    "preschoolers = agate.Table.from_csv(\"census_join_example.csv\", column_names)\n",
    "\n",
    "preschoolers.print_table()"
   ]
  },
  {
   "cell_type": "code",
   "execution_count": null,
   "metadata": {
    "collapsed": false,
    "scrolled": true
   },
   "outputs": [],
   "source": [
    "# we can refer to column values by name (row[\"id\"]) or index (row[0])\n",
    "for row in preschoolers.rows:\n",
    "    municipality = row[\"municipality\"].split(\" (\")[0] # extract just the name\n",
    "    density = int(row[\"population\"]/row[\"area\"])\n",
    "    print(\"{} has {} preschoolers per square kilometre\".format(municipality, density))"
   ]
  },
  {
   "cell_type": "markdown",
   "metadata": {},
   "source": [
    "### Group Dissemination Areas by Municipality\n",
    "\n",
    "Lines 3-19 appear to be dissemination areas for North Dumfries."
   ]
  },
  {
   "cell_type": "code",
   "execution_count": null,
   "metadata": {
    "collapsed": false
   },
   "outputs": [],
   "source": [
    "%%bash\n",
    "head -n 21 census_indexed.csv | csvcut -c 1,2 > census_geography_example.csv\n",
    "csvlook census_geography_example.csv\n"
   ]
  },
  {
   "cell_type": "code",
   "execution_count": null,
   "metadata": {
    "collapsed": false,
    "scrolled": true
   },
   "outputs": [],
   "source": [
    "%%bash\n",
    "csvcut -c 1,2 census_indexed.csv | csvgrep -c 2 -r \"^[A-Z]\" > census_municipalities.csv\n",
    "csvlook census_municipalities.csv"
   ]
  },
  {
   "cell_type": "code",
   "execution_count": null,
   "metadata": {
    "collapsed": false,
    "scrolled": true
   },
   "outputs": [],
   "source": [
    "%%bash\n",
    "csvcut -c 1,2 census_indexed.csv > census_areas_raw.csv\n",
    "head -n 10 census_areas_raw.csv | csvlook"
   ]
  },
  {
   "cell_type": "code",
   "execution_count": null,
   "metadata": {
    "collapsed": false
   },
   "outputs": [],
   "source": [
    "# helper functions\n",
    "def match_area_id(text):\n",
    "    \"\"\"\n",
    "    Extract area/name and identifier from Census Geography column\n",
    "    \n",
    "    match_area_id(\"Waterloo (3530)   00000\") == (\"Waterloo\", \"3530\")\n",
    "    \"\"\"\n",
    "    \n",
    "    import re\n",
    "    _match = re.match(\"(.*) [(](.*)[)] .*\", text)\n",
    "    return _match.groups()\n",
    "\n",
    "def get_ranges(start_values, all_values):\n",
    "    \"\"\"\n",
    "    Use list of start_values to create ranges of items to extract from all_values\n",
    "    \n",
    "    get_ranges([1,3], [1,2,3,4,5]) == [(1, 2), (3, 5)]\n",
    "    \"\"\"\n",
    "\n",
    "    stop_values = [value - 1 for value in start_values[1:]]\n",
    "    stop_values.append(len(all_values))\n",
    "    \n",
    "    return zip(start_values, stop_values)\n",
    "\n",
    "# load data\n",
    "municipalities = agate.Table.from_csv(\"census_municipalities.csv\")\n",
    "\n",
    "areas = agate.Table.from_csv(\"census_areas_raw.csv\")\n",
    "\n",
    "# first row of municipalities table is Waterloo Region\n",
    "region_row = municipalities.rows[0]\n",
    "region_id = match_area_id(region_row[\"Geography\"])\n",
    "\n",
    "\n",
    "start_values = [int(row[\"line_number\"]) for row in municipalities.rows[1:]] # skip first row\n",
    "ranges = get_ranges(start_values, areas.rows)\n",
    "\n",
    "names = [match_area_id(row[\"Geography\"]) for row in municipalities.rows[1:]]\n",
    "named_ranges = zip(names, ranges)\n",
    "\n",
    "column_values = []\n",
    "for n, r in named_ranges:\n",
    "    start, stop = r\n",
    "    for row in areas.rows[start:stop]:\n",
    "        _, _id = match_area_id(row[\"Geography\"])\n",
    "        columns = list(region_id)\n",
    "        columns.extend(list(n))\n",
    "        columns.append(_id)\n",
    "        column_values.append(columns)\n",
    "\n",
    "column_names = [\"Region\", \"region_id\", \"Municipality\", \"municipality_id\", \"area_id\"]\n",
    "\n",
    "areas_table = agate.Table(column_values, column_names)\n",
    "areas_table.to_csv(\"census_areas.csv\")"
   ]
  },
  {
   "cell_type": "code",
   "execution_count": null,
   "metadata": {
    "collapsed": false,
    "scrolled": true
   },
   "outputs": [],
   "source": [
    "%%bash\n",
    "head -n 5 census_areas.csv | csvlook"
   ]
  }
 ],
 "metadata": {
  "kernelspec": {
   "display_name": "Python 2",
   "language": "python",
   "name": "python2"
  },
  "language_info": {
   "codemirror_mode": {
    "name": "ipython",
    "version": 2
   },
   "file_extension": ".py",
   "mimetype": "text/x-python",
   "name": "python",
   "nbconvert_exporter": "python",
   "pygments_lexer": "ipython2",
   "version": "2.7.11+"
  }
 },
 "nbformat": 4,
 "nbformat_minor": 0
}
