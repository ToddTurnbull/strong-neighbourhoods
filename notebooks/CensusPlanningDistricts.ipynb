{
 "cells": [
  {
   "cell_type": "markdown",
   "metadata": {},
   "source": [
    "# 2011 Census Profile by Planning District\n",
    "\n",
    "Sources:\n",
    "\n",
    "* `2011 Census All.csv`: Census data extracted from Beyond 20/20\n",
    "* `planning-district-codes.csv`: Waterloo Region planning districts (code, name, municipality); copied from /data/waterloo-region/\n",
    "\n",
    "Project files:\n",
    "\n",
    "* `census-planning-districts-indexed.csv`\n",
    "* `census-planning-districts-columns.txt`\n",
    "* `age-groups.csv`\n",
    "* `households-persons.csv`\n",
    "* `households-family-size.csv`\n",
    "* `households-family-structure.csv`\n",
    "* `occupied-dwellings.csv`\n",
    "* `official-languages.csv`\n",
    "\n",
    "Notes:\n",
    "\n",
    "Census data is available for 102 of the 105 planning districts in Waterloo Region.\n",
    "\n",
    "## Setup"
   ]
  },
  {
   "cell_type": "code",
   "execution_count": 1,
   "metadata": {
    "collapsed": true
   },
   "outputs": [],
   "source": [
    "%%bash\n",
    "cp ../data/waterloo-region/planning-district-codes.csv ../sources/canada/census-planningdistrict"
   ]
  },
  {
   "cell_type": "code",
   "execution_count": null,
   "metadata": {
    "collapsed": false,
    "scrolled": false
   },
   "outputs": [],
   "source": [
    "%cd ../sources/canada/census-planningdistrict/"
   ]
  },
  {
   "cell_type": "code",
   "execution_count": 3,
   "metadata": {
    "collapsed": true
   },
   "outputs": [],
   "source": [
    "import agate\n",
    "import re\n",
    "\n",
    "from operator import add\n",
    "\n",
    "def extract_text(text, match=\"WAT - PD - (.*)\"):\n",
    "    \"\"\"Extract text from a column, eg, district code from Geography column\"\"\"\n",
    "    _match = re.match(match, text)\n",
    "    return _match.group(1)\n",
    "\n",
    "def rename_columns(file_name, new_column_names):\n",
    "    \"\"\"Overwrite a csv file with new column names\"\"\"\n",
    "    old_names = agate.Table.from_csv(file_name)\n",
    "    new_names = old_names.rename(new_column_names)\n",
    "    new_names.to_csv(file_name)\n"
   ]
  },
  {
   "cell_type": "markdown",
   "metadata": {},
   "source": [
    "## Index and list of columns for Census data"
   ]
  },
  {
   "cell_type": "code",
   "execution_count": 4,
   "metadata": {
    "collapsed": false
   },
   "outputs": [
    {
     "name": "stdout",
     "output_type": "stream",
     "text": [
      "  1: line_number\n",
      "  2: Geography\n",
      "  3: Total population by age groups\n",
      " 27: Median age of the population\n",
      " 28: % of the population aged 15 and over\n",
      " 81: Total population 15 years and over by marital status\n",
      "108: Total number of persons in private households \n",
      "126: Total number of persons aged 65 years and over in private households\n",
      "144: Total number of census families in private households by family size\n",
      "149: Total number of census families in private households by family structure and number of children\n",
      "172: Total children in census families in private households\n",
      "178: Average number of children at home per census family\n",
      "179: Average number of persons per census family\n",
      "180: Total number of private households by household type\n",
      "197: Total number of private households by household size\n",
      "204: Total number of persons in private households\n",
      "205: Average number of persons in private households\n",
      "206: Total number of occupied private dwellings by structural type of dwelling\n",
      "216: Detailed Mother Tongue - Total population excluding institutional residents\n",
      "549: Knowledge of official languages - Total population excluding institutional residents\n",
      "564: First official language spoken - Total population excluding institutional residents\n",
      "579: Detailed language spoken most often at home - Total population excluding institutional residents\n",
      "912: Detailed other language spoken regularly at home - Total population excluding institutional residents\n"
     ]
    }
   ],
   "source": [
    "%%bash\n",
    "# add line_number column as a \"primary key\" for joining to other tables\n",
    "csvcut -l  2011\\ Census\\ all.csv > \"census-planning-districts-indexed.csv\"\n",
    "\n",
    "csvcut -n census-planning-districts-indexed.csv > census-planning-districts-columns.txt\n",
    "\n",
    "# list \"top level\" columns by excluding column names that start with a space\n",
    "grep -v \":  \" census-planning-districts-columns.txt"
   ]
  },
  {
   "cell_type": "markdown",
   "metadata": {},
   "source": [
    "## Extract planning district codes from Census data"
   ]
  },
  {
   "cell_type": "code",
   "execution_count": 5,
   "metadata": {
    "collapsed": false,
    "scrolled": true
   },
   "outputs": [
    {
     "name": "stdout",
     "output_type": "stream",
     "text": [
      "|--------------+-------------------|\n",
      "|  line_number | Geography         |\n",
      "|--------------+-------------------|\n",
      "|  1           | WAT - PD - C10    |\n",
      "|  2           | WAT - PD - C1014  |\n",
      "|  3           | WAT - PD - C103   |\n",
      "|  4           | WAT - PD - C109   |\n",
      "|  5           | WAT - PD - C10N   |\n",
      "|  6           | WAT - PD - C10S   |\n",
      "|  7           | WAT - PD - C11    |\n",
      "|  8           | WAT - PD - C116   |\n",
      "|  9           | WAT - PD - C12    |\n",
      "|--------------+-------------------|\n"
     ]
    }
   ],
   "source": [
    "%%bash\n",
    "# create a temporary table with the Geography field which contains codes for each district\n",
    "csvcut -c 1,2 census-planning-districts-indexed.csv > census-planning-districts-tmp.csv\n",
    "head -n 10 census-planning-districts-tmp.csv | csvlook"
   ]
  },
  {
   "cell_type": "code",
   "execution_count": 6,
   "metadata": {
    "collapsed": false
   },
   "outputs": [],
   "source": [
    "districts = agate.Table.from_csv(\"census-planning-districts-tmp.csv\")\n",
    "\n",
    "column_names = [\"index\", \"code\"]\n",
    "column_types = [agate.Number(), agate.Text()]\n",
    "column_values = [[row[\"line_number\"], extract_text(row[\"Geography\"])] for row in districts.rows]\n",
    "\n",
    "districts_table = agate.Table(column_values, column_names, column_types)\n",
    "\n",
    "districts_table.to_csv(\"census-planning-districts-codes-tmp.csv\")"
   ]
  },
  {
   "cell_type": "code",
   "execution_count": 7,
   "metadata": {
    "collapsed": false,
    "scrolled": true
   },
   "outputs": [
    {
     "name": "stdout",
     "output_type": "stream",
     "text": [
      "|--------+-------+----------------------------+---------------|\n",
      "|  index | code  | name                       | municipality  |\n",
      "|--------+-------+----------------------------+---------------|\n",
      "|  1     | C10   | Blair                      | Cambridge     |\n",
      "|  2     | C1014 | Silver Heights/Blackbridge | Cambridge     |\n",
      "|  3     | C103  | Riverside                  | Cambridge     |\n",
      "|  4     | C109  | Centennial/River Flats     | Cambridge     |\n",
      "|  5     | C10N  | Shades Mills North         | Cambridge     |\n",
      "|  6     | C10S  | Shades Mills South         | Cambridge     |\n",
      "|  7     | C11   | Preston Heights            | Cambridge     |\n",
      "|  8     | C116  | Riverview                  | Cambridge     |\n",
      "|  9     | C12   | Central Park               | Cambridge     |\n",
      "|--------+-------+----------------------------+---------------|\n"
     ]
    }
   ],
   "source": [
    "%%bash\n",
    "# create a table we can join with census-planning-districts-indexed.csv\n",
    "csvjoin -c \"code,id\" census-planning-districts-codes-tmp.csv planning-district-codes.csv | \\\n",
    "csvcut -c 1,2,4,5 > census-planning-districts.csv\n",
    "\n",
    "head -n 10 census-planning-districts.csv | csvlook"
   ]
  },
  {
   "cell_type": "markdown",
   "metadata": {},
   "source": [
    "## Population by age group"
   ]
  },
  {
   "cell_type": "code",
   "execution_count": 8,
   "metadata": {
    "collapsed": false
   },
   "outputs": [
    {
     "name": "stdout",
     "output_type": "stream",
     "text": [
      "  1: line_number\n",
      "  2: Total population by age groups\n",
      "  3:   0 to 4 years \n",
      "  4:   5 to 9 years \n",
      "  5:   10 to 14 years \n",
      "  6:   15 to 19 years \n",
      "  7:   20 to 24 years \n",
      "  8:   25 to 29 years \n",
      "  9:   30 to 34 years \n",
      " 10:   35 to 39 years \n",
      " 11:   40 to 44 years \n",
      " 12:   45 to 49 years \n",
      " 13:   50 to 54 years \n",
      " 14:   55 to 59 years \n",
      " 15:   60 to 64 years \n",
      " 16:   65 to 69 years \n",
      " 17:   70 to 74 years \n",
      " 18:   75 to 79 years \n",
      " 19:   80 to 84 years \n",
      " 20:   85 years and over \n"
     ]
    }
   ],
   "source": [
    "%%bash\n",
    "# temporary file for population by age group: columns 1-7, 13-26\n",
    "csvcut -c 1,3,4,5,6,7,13,14,15,16,17,18,19,20,21,22,23,24,25,26 census-planning-districts-indexed.csv > \\\n",
    "age-groups-tmp.csv\n",
    "\n",
    "csvcut -n age-groups-tmp.csv"
   ]
  },
  {
   "cell_type": "code",
   "execution_count": 9,
   "metadata": {
    "collapsed": false
   },
   "outputs": [],
   "source": [
    "new_column_names = [\n",
    "    \"line_number\",\n",
    "    \"total\",\n",
    "    \"00-04\", \"05-09\", \"10-14\", \"15-19\", \"20-24\", \"25-29\",\n",
    "    \"30-34\", \"35-39\", \"40-44\", \"45-49\", \"50-54\", \"55-59\",\n",
    "    \"60-64\", \"65-69\", \"70-74\", \"75-79\", \"80-84\", \"85-00\"\n",
    "]\n",
    "rename_columns(\"age-groups-tmp.csv\", new_column_names)"
   ]
  },
  {
   "cell_type": "code",
   "execution_count": 10,
   "metadata": {
    "collapsed": false
   },
   "outputs": [
    {
     "name": "stdout",
     "output_type": "stream",
     "text": [
      "  1: index\n",
      "  2: code\n",
      "  3: name\n",
      "  4: municipality\n",
      "  5: total\n",
      "  6: 00-04\n",
      "  7: 05-09\n",
      "  8: 10-14\n",
      "  9: 15-19\n",
      " 10: 20-24\n",
      " 11: 25-29\n",
      " 12: 30-34\n",
      " 13: 35-39\n",
      " 14: 40-44\n",
      " 15: 45-49\n",
      " 16: 50-54\n",
      " 17: 55-59\n",
      " 18: 60-64\n",
      " 19: 65-69\n",
      " 20: 70-74\n",
      " 21: 75-79\n",
      " 22: 80-84\n",
      " 23: 85-00\n"
     ]
    }
   ],
   "source": [
    "%%bash\n",
    "# add planning district data, remove line_number column\n",
    "csvjoin -c \"index,line_number\" census-planning-districts.csv age-groups-tmp.csv | \\\n",
    "csvcut -C 5 > age-groups.csv\n",
    "\n",
    "csvcut -n age-groups.csv"
   ]
  },
  {
   "cell_type": "markdown",
   "metadata": {},
   "source": [
    "## Households\n",
    "\n",
    "### Persons"
   ]
  },
  {
   "cell_type": "code",
   "execution_count": 11,
   "metadata": {
    "collapsed": false
   },
   "outputs": [
    {
     "name": "stdout",
     "output_type": "stream",
     "text": [
      "  1: line_number\n",
      "  2: Total number of persons in private households \n",
      "  3:   Number of census family persons \n",
      "  4:   Number of persons not in census families \n",
      "  5:     Living with relatives \n",
      "  6:     Living with non-relatives only\n",
      "  7:     Living alone \n",
      "  8: Total number of persons aged 65 years and over in private households\n",
      "  9:     Living alone\n"
     ]
    }
   ],
   "source": [
    "%%bash\n",
    "csvcut -c 1,108,113,109,110,111,112,126,130 census-planning-districts-indexed.csv > \\\n",
    "households-persons-tmp.csv\n",
    "\n",
    "csvcut -n households-persons-tmp.csv"
   ]
  },
  {
   "cell_type": "code",
   "execution_count": 12,
   "metadata": {
    "collapsed": true
   },
   "outputs": [],
   "source": [
    "new_column_names = [\n",
    "    \"line_number\",\n",
    "    \"total\",\n",
    "    \"family\",\n",
    "    \"other\", \"other-relatives\", \"other-non-relatives\", \"other-alone\",\n",
    "    \"65-plus\", \"65-plus-alone\"\n",
    "]\n",
    "rename_columns(\"households-persons-tmp.csv\", new_column_names)"
   ]
  },
  {
   "cell_type": "code",
   "execution_count": 13,
   "metadata": {
    "collapsed": false
   },
   "outputs": [
    {
     "name": "stdout",
     "output_type": "stream",
     "text": [
      "  1: index\n",
      "  2: code\n",
      "  3: name\n",
      "  4: municipality\n",
      "  5: total\n",
      "  6: family\n",
      "  7: other\n",
      "  8: other-relatives\n",
      "  9: other-non-relatives\n",
      " 10: other-alone\n",
      " 11: 65-plus\n",
      " 12: 65-plus-alone\n"
     ]
    }
   ],
   "source": [
    "%%bash\n",
    "# add planning district data, remove line_number column\n",
    "csvjoin -c \"index,line_number\" census-planning-districts.csv households-persons-tmp.csv | \\\n",
    "csvcut -C 5 > households-persons.csv\n",
    "\n",
    "csvcut -n households-persons.csv"
   ]
  },
  {
   "cell_type": "markdown",
   "metadata": {},
   "source": [
    "### Family size"
   ]
  },
  {
   "cell_type": "code",
   "execution_count": 14,
   "metadata": {
    "collapsed": false
   },
   "outputs": [
    {
     "name": "stdout",
     "output_type": "stream",
     "text": [
      "  1: line_number\n",
      "  2: Total number of census families in private households by family size\n",
      "  3:   Size of census family: 2 persons\n",
      "  4:   Size of census family: 3 persons\n",
      "  5:   Size of census family: 4 persons\n",
      "  6:   Size of census family: 5 or more persons\n"
     ]
    }
   ],
   "source": [
    "%%bash\n",
    "csvcut -c 1,144,145,146,147,148 census-planning-districts-indexed.csv > \\\n",
    "households-family-size-tmp.csv\n",
    "\n",
    "csvcut -n households-family-size-tmp.csv"
   ]
  },
  {
   "cell_type": "code",
   "execution_count": 15,
   "metadata": {
    "collapsed": true
   },
   "outputs": [],
   "source": [
    "new_column_names = [\n",
    "    \"line_number\",\n",
    "    \"total\",\n",
    "    \"total-2\", \"total-3\", \"total-4\", \"total-5-plus\"\n",
    "]\n",
    "rename_columns(\"households-family-size-tmp.csv\", new_column_names)"
   ]
  },
  {
   "cell_type": "code",
   "execution_count": 16,
   "metadata": {
    "collapsed": false
   },
   "outputs": [
    {
     "name": "stdout",
     "output_type": "stream",
     "text": [
      "  1: index\n",
      "  2: code\n",
      "  3: name\n",
      "  4: municipality\n",
      "  5: total\n",
      "  6: total-2\n",
      "  7: total-3\n",
      "  8: total-4\n",
      "  9: total-5-plus\n"
     ]
    }
   ],
   "source": [
    "%%bash\n",
    "# add planning district data, remove line_number column\n",
    "csvjoin -c \"index,line_number\" census-planning-districts.csv households-family-size-tmp.csv | \\\n",
    "csvcut -C 5 > households-family-size.csv\n",
    "\n",
    "csvcut -n households-family-size.csv"
   ]
  },
  {
   "cell_type": "markdown",
   "metadata": {},
   "source": [
    "### Family structure"
   ]
  },
  {
   "cell_type": "code",
   "execution_count": 17,
   "metadata": {
    "collapsed": false
   },
   "outputs": [
    {
     "name": "stdout",
     "output_type": "stream",
     "text": [
      "  1: line_number\n",
      "  2: Total number of census families in private households by family structure and number of children\n",
      "  3:   Total couple families by family structure and number of children\n",
      "  4:     Married couples\n",
      "  5:       Without children at home\n",
      "  6:       With children at home\n",
      "  7:     Common-law couples\n",
      "  8:       Without children at home\n",
      "  9:       With children at home\n",
      " 10:   Total lone-parent families by sex of parent and number of children\n"
     ]
    }
   ],
   "source": [
    "%%bash\n",
    "csvcut -c 1,149,150,151,152,153,157,158,159,163 \\\n",
    "census-planning-districts-indexed.csv > households-family-structure-tmp.csv\n",
    "\n",
    "csvcut -n households-family-structure-tmp.csv"
   ]
  },
  {
   "cell_type": "code",
   "execution_count": null,
   "metadata": {
    "collapsed": false,
    "scrolled": false
   },
   "outputs": [],
   "source": [
    "new_column_names = [\n",
    "    \"line_number\",\n",
    "    \"total\", \"couples\",\n",
    "    \"married\", \"married-no-children\", \"married-children\",\n",
    "    \"common-law\", \"common-law-no-children\", \"common-law-children\",\n",
    "    \"lone-parent\"\n",
    "]\n",
    "rename_columns(\"households-family-structure-tmp.csv\", new_column_names)\n",
    "\n",
    "# compute totals for couples with/without children\n",
    "families_data = agate.Table.from_csv(\"households-family-structure-tmp.csv\")\n",
    "couples_data = families_data.compute([\n",
    "    (\"couples-children\", agate.Formula(\n",
    "        agate.Number(), lambda row: add(row[\"married-children\"], row[\"common-law-children\"]))),\n",
    "    (\"couples-no-children\", agate.Formula(\n",
    "        agate.Number(), lambda row: add(row[\"married-no-children\"], row[\"common-law-no-children\"])))\n",
    "])\n",
    "couples_data.to_csv(\"households-family-structure-tmp.csv\")"
   ]
  },
  {
   "cell_type": "code",
   "execution_count": 19,
   "metadata": {
    "collapsed": false
   },
   "outputs": [
    {
     "name": "stdout",
     "output_type": "stream",
     "text": [
      "  1: index\n",
      "  2: code\n",
      "  3: name\n",
      "  4: municipality\n",
      "  5: total\n",
      "  6: couples\n",
      "  7: couples-children\n",
      "  8: couples-no-children\n",
      "  9: lone-parent\n"
     ]
    }
   ],
   "source": [
    "%%bash\n",
    "# add planning district data, remove line_number column, married/common-law columns\n",
    "csvjoin -c \"index,line_number\" \\\n",
    "census-planning-districts.csv households-family-structure-tmp.csv | \\\n",
    "csvcut -c 1,2,3,4,6,7,15,16,14 > households-family-structure.csv\n",
    "\n",
    "csvcut -n households-family-structure.csv"
   ]
  },
  {
   "cell_type": "markdown",
   "metadata": {},
   "source": [
    "## Occupied private dwellings by structural type"
   ]
  },
  {
   "cell_type": "code",
   "execution_count": 20,
   "metadata": {
    "collapsed": false
   },
   "outputs": [
    {
     "name": "stdout",
     "output_type": "stream",
     "text": [
      "  1: line_number\n",
      "  2: Total number of occupied private dwellings by structural type of dwelling\n",
      "  3:   Single-detached house\n",
      "  4:   Apartment, building that has five or more storeys\n",
      "  5:   Movable dwelling\n",
      "  6:   Other dwelling\n",
      "  7:     Semi-detached house\n",
      "  8:     Row house\n",
      "  9:     Apartment, duplex\n",
      " 10:     Apartment, building that has fewer than five storeys\n",
      " 11:     Other single-attached house\n"
     ]
    }
   ],
   "source": [
    "%%bash\n",
    "# temporary file for dwellings: columns 206-215\n",
    "csvcut -c 1,206,207,208,209,210,211,212,213,214,215 census-planning-districts-indexed.csv > \\\n",
    "occupied-dwellings-tmp.csv\n",
    "\n",
    "csvcut -n occupied-dwellings-tmp.csv"
   ]
  },
  {
   "cell_type": "code",
   "execution_count": 21,
   "metadata": {
    "collapsed": true
   },
   "outputs": [],
   "source": [
    "new_column_names = [\n",
    "    \"line_number\",\n",
    "    \"total\",\n",
    "    \"single-detached\", \"apartment-5-plus\", \"movable\", \"other\", \"semi-detached\",\n",
    "    \"row-house\", \"apartment-duplex\", \"apartment\", \"single-attached\"\n",
    "]\n",
    "rename_columns(\"occupied-dwellings-tmp.csv\", new_column_names)"
   ]
  },
  {
   "cell_type": "code",
   "execution_count": 22,
   "metadata": {
    "collapsed": false,
    "scrolled": true
   },
   "outputs": [
    {
     "name": "stdout",
     "output_type": "stream",
     "text": [
      "  1: index\n",
      "  2: code\n",
      "  3: name\n",
      "  4: municipality\n",
      "  5: total\n",
      "  6: apartment\n",
      "  7: apartment-5-plus\n",
      "  8: apartment-duplex\n",
      "  9: movable\n",
      " 10: row-house\n",
      " 11: semi-detached\n",
      " 12: single-attached\n",
      " 13: single-detached\n"
     ]
    }
   ],
   "source": [
    "%%bash\n",
    "# add planning district data, remove line_number and other column, re-order columns\n",
    "csvjoin -c \"index,line_number\" census-planning-districts.csv occupied-dwellings-tmp.csv | \\\n",
    "csvcut -c 1,2,3,4,6,14,8,13,9,12,11,15,7 > occupied-dwellings.csv\n",
    "\n",
    "csvcut -n occupied-dwellings.csv"
   ]
  },
  {
   "cell_type": "markdown",
   "metadata": {},
   "source": [
    "## Knowledge of official languages"
   ]
  },
  {
   "cell_type": "code",
   "execution_count": 23,
   "metadata": {
    "collapsed": false
   },
   "outputs": [
    {
     "name": "stdout",
     "output_type": "stream",
     "text": [
      "  1: line_number\n",
      "  2: Knowledge of official languages - Total population excluding institutional residents\n",
      "  3:     English only\n",
      "  4:     French only\n",
      "  5:     English and French\n",
      "  6:     Neither English nor French\n"
     ]
    }
   ],
   "source": [
    "%%bash\n",
    "# temporary file for official languages: columns 549-553\n",
    "csvcut -c 1,549,550,551,552,553 census-planning-districts-indexed.csv > \\\n",
    "official-languages-tmp.csv\n",
    "\n",
    "csvcut -n official-languages-tmp.csv"
   ]
  },
  {
   "cell_type": "code",
   "execution_count": 24,
   "metadata": {
    "collapsed": false
   },
   "outputs": [],
   "source": [
    "new_column_names = [\n",
    "    \"line_number\",\n",
    "    \"total\",\n",
    "    \"english\", \"french\", \"both\", \"neither\"\n",
    "]\n",
    "rename_columns(\"official-languages-tmp.csv\", new_column_names)"
   ]
  },
  {
   "cell_type": "code",
   "execution_count": 25,
   "metadata": {
    "collapsed": false
   },
   "outputs": [
    {
     "name": "stdout",
     "output_type": "stream",
     "text": [
      "  1: index\n",
      "  2: code\n",
      "  3: name\n",
      "  4: municipality\n",
      "  5: total\n",
      "  6: english\n",
      "  7: french\n",
      "  8: both\n",
      "  9: neither\n"
     ]
    }
   ],
   "source": [
    "%%bash\n",
    "# add planning district data, remove line_number column\n",
    "csvjoin -c \"index,line_number\" census-planning-districts.csv official-languages-tmp.csv | \\\n",
    "csvcut -C 5 > official-languages.csv\n",
    "\n",
    "csvcut -n official-languages.csv"
   ]
  },
  {
   "cell_type": "markdown",
   "metadata": {},
   "source": [
    "## Clean up temporary files"
   ]
  },
  {
   "cell_type": "code",
   "execution_count": 26,
   "metadata": {
    "collapsed": false
   },
   "outputs": [
    {
     "name": "stdout",
     "output_type": "stream",
     "text": [
      "2011 Census all.csv\n",
      "age-groups.csv\n",
      "census-planning-districts-columns.txt\n",
      "census-planning-districts-indexed.csv\n",
      "census-planning-districts.csv\n",
      "households-family-size.csv\n",
      "households-family-structure.csv\n",
      "households-persons.csv\n",
      "occupied-dwellings.csv\n",
      "official-languages.csv\n",
      "planning-district-codes.csv\n",
      "readme.md\n"
     ]
    }
   ],
   "source": [
    "%%bash\n",
    "rm *tmp.csv\n",
    "ls"
   ]
  }
 ],
 "metadata": {
  "kernelspec": {
   "display_name": "Python 2",
   "language": "python",
   "name": "python2"
  },
  "language_info": {
   "codemirror_mode": {
    "name": "ipython",
    "version": 2
   },
   "file_extension": ".py",
   "mimetype": "text/x-python",
   "name": "python",
   "nbconvert_exporter": "python",
   "pygments_lexer": "ipython2",
   "version": "2.7.11+"
  }
 },
 "nbformat": 4,
 "nbformat_minor": 0
}
